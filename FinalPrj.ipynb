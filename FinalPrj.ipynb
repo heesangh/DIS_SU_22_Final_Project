{
 "cells": [
  {
   "cell_type": "markdown",
   "metadata": {
    "pycharm": {
     "name": "#%% md\n"
    }
   },
   "source": [
    "## Final Project: Word Embedding\n",
    "\n",
    "DIS SU22 Artficial Neural Network and Deep Learning\n",
    "Daniel Florness, Heesang Han, Ed Keating\n",
    "1 July 2022"
   ]
  },
  {
   "cell_type": "code",
   "execution_count": 4,
   "metadata": {
    "ExecuteTime": {
     "end_time": "2019-10-14T18:33:15.670464Z",
     "start_time": "2019-10-14T18:33:15.662510Z"
    },
    "pycharm": {
     "name": "#%%\n"
    }
   },
   "outputs": [
    {
     "name": "stderr",
     "output_type": "stream",
     "text": [
      "[nltk_data] Downloading package omw-1.4 to\n",
      "[nltk_data]     C:\\Users\\hs1sc\\AppData\\Roaming\\nltk_data...\n",
      "[nltk_data]   Package omw-1.4 is already up-to-date!\n",
      "[nltk_data] Downloading package punkt to\n",
      "[nltk_data]     C:\\Users\\hs1sc\\AppData\\Roaming\\nltk_data...\n",
      "[nltk_data]   Package punkt is already up-to-date!\n",
      "[nltk_data] Downloading package stopwords to\n",
      "[nltk_data]     C:\\Users\\hs1sc\\AppData\\Roaming\\nltk_data...\n",
      "[nltk_data]   Package stopwords is already up-to-date!\n",
      "[nltk_data] Downloading package wordnet to\n",
      "[nltk_data]     C:\\Users\\hs1sc\\AppData\\Roaming\\nltk_data...\n",
      "[nltk_data]   Package wordnet is already up-to-date!\n"
     ]
    }
   ],
   "source": [
    "%matplotlib inline\n",
    "\n",
    "import numpy as np\n",
    "\n",
    "from nltk.corpus import wordnet\n",
    "\n",
    "import nltk\n",
    "nltk.download('omw-1.4')\n",
    "nltk.download('punkt')\n",
    "nltk.download('stopwords')\n",
    "nltk.download('wordnet')\n",
    "stop_words = nltk.corpus.stopwords.words('english')\n",
    "\n",
    "import keras\n",
    "import re\n",
    "import math\n",
    "\n",
    "import tensorflow.keras\n",
    "\n",
    "import matplotlib.pyplot as plt\n"
   ]
  },
  {
   "cell_type": "code",
   "execution_count": 5,
   "outputs": [
    {
     "name": "stdout",
     "output_type": "stream",
     "text": [
      "7260 tokens generated\n",
      "Token Mapping Complete\n",
      "{'together': 0, 'rob': 1, 'heba': 2, 'sound': 3, 'nine': 4, 'seconds': 5, 'book': 6, 'wear': 7, 'saw': 8, 'road': 9, 'pornographic': 10, 'swim': 11, 'hurting': 12, 'shadow': 13, 'closer': 14, 'making': 15, 'sweater': 16, 'vain': 17, 'puts': 18, 'day': 19, 'took': 20, 'drive': 21, 'cos': 22, 'grow': 23, 'crossed': 24, 'sgt': 25, 'noticed': 26, 'bus': 27, 'raleigh': 28, 'undying': 29, 'returning': 30, 'slither': 31, 'lead': 32, 'high': 33, 'vont': 34, 'self': 35, 'morning': 36, 'lets': 37, 'brother': 38, 'molly': 39, 'keep': 40, 'pride': 41, 'lil': 42, 'woke': 43, 'lit': 44, 'made': 45, 'thinking': 46, 'solitude': 47, 'gallery': 48, 'wings': 49, 'birthday': 50, 'newspaper': 51, 'open': 52, 'blew': 53, 'wave': 54, 'magill': 55, 'shore': 56, 'neighborhood': 57, 'forget': 58, 'garden': 59, 'job': 60, 'carousel': 61, 'tonight': 62, \"tuesday's\": 63, 'sincerely': 64, 'greetings': 65, 'possessions': 66, 'raincoats': 67, 'finger': 68, 'boys': 69, 'flowers': 70, 'today': 71, 'sir': 72, 'free': 73, 'wipe': 74, 'moon': 75, 'tucson': 76, 'trust': 77, 'kids': 78, 'summer': 79, 'last': 80, 'sings': 81, 'moved': 82, 'lends': 83, 'cent': 84, 'dirt': 85, 'getting': 86, 'rather': 87, 'roses': 88, 'sing': 89, 'bom': 90, 'introduce': 91, 'five': 92, 'try': 93, 'riding': 94, 'grinning': 95, 'really': 96, 'holy': 97, 'grabbed': 98, 'isle': 99, 'sister': 100, 'guaranteed': 101, 'tea': 102, 'bright': 103, 'happy': 104, 'boy': 105, 'disconnect': 106, 'pataphysical': 107, 'ooh': 108, 'dies': 109, 'church': 110, 'foolish': 111, 'style': 112, 'policemen': 113, 'nearly': 114, 'nobody': 115, 'solution': 116, 'glass': 117, 'police': 118, 'see': 119, 'celebrate': 120, 'skies': 121, 'thoughts': 122, 'diamonds': 123, 'rope': 124, 'miss': 125, 'cuesto': 126, 'school': 127, 'destruction': 128, 'woah': 129, 'door': 130, 'wonders': 131, 'keeping': 132, 'mean': 133, 'looking': 134, 'belong': 135, 'chewing': 136, 'true': 137, 'cloudy': 138, 'lover': 139, 'declare': 140, 'paul': 141, 'porters': 142, 'jude': 143, 'worth': 144, 'marmalade': 145, 'prudence': 146, 'game': 147, 'chicka': 148, 'queen': 149, 'tanta': 150, 'insane': 151, 'stating': 152, 'kid': 153, 'much': 154, 'baby': 155, 'sunken': 156, 'next': 157, 'penny': 158, 'biding': 159, 'clubs': 160, 'cola': 161, 'taught': 162, 'tomorrow': 163, 'store': 164, 'shown': 165, 'doors': 166, 'wonderful': 167, 'anything': 168, 'proceeded': 169, 'mundo': 170, 'aye': 171, 'lies': 172, 'everyone': 173, 'raise': 174, 'could': 175, 'sheepdog': 176, 'slumbers': 177, 'pararazzi': 178, 'brain': 179, 'died': 180, 'stay': 181, 'rice': 182, 'alone': 183, 'plays': 184, 'monday': 185, 'canary': 186, 'shady': 187, 'nancy': 188, 'hands': 189, 'upset': 190, 'begins': 191, 'aboard': 192, 'bath': 193, 'restless': 194, 'sat': 195, 'working': 196, 'edison': 197, 'wight': 198, 'dime': 199, 'dreadful': 200, 'shot': 201, 'lived': 202, 'get': 203, 'eleanor': 204, 'stretches': 205, 'best': 206, 'minds': 207, 'leaving': 208, 'appear': 209, 'hoop': 210, \"she'd\": 211, 'tenderly': 212, 'norwegian': 213, 'shows': 214, 'local': 215, 'white': 216, 'wood': 217, 'jones': 218, 'fun': 219, 'homeward': 220, 'calls': 221, 'buys': 222, 'appears': 223, \"balalaika's\": 224, 'spent': 225, 'hurt': 226, 'obscene': 227, 'screaming': 228, 'bellyful': 229, 'behind': 230, 'window': 231, 'earned': 232, 'picture': 233, 'pennies': 234, \"we'd\": 235, 'advice': 236, 'joy': 237, 'kind': 238, 'shoot': 239, 'legs': 240, 'chairman': 241, \"'til\": 242, 'bra': 243, 'babe': 244, 'broken': 245, 'loud': 246, 'fears': 247, 'mary': 248, 'gives': 249, 'everything': 250, \"jeweler's\": 251, \"can't\": 252, 'cried': 253, 'half': 254, 'fountain': 255, 'girl': 256, 'insecure': 257, 'doctor': 258, 'sunshine': 259, 'evolution': 260, 'realized': 261, 'meadows': 262, 'box': 263, 'ties': 264, 'hit': 265, 'pleasing': 266, 'laugh': 267, 'hello': 268, 'every': 269, 'send': 270, 'friends': 271, 'tray': 272, 'apart': 273, 'guess': 274, 'hanging': 275, 'loved': 276, 'mending': 277, 'hears': 278, 'house': 279, 'poe': 280, 'lie': 281, \"rocky's\": 282, 'state': 283, 'danced': 284, 'aaaaaaahhhh': 285, 'sce': 286, 'revolution': 287, \"'cause\": 288, 'shoulders': 289, 'somebody': 290, 'cottage': 291, 'orange': 292, 'policeman': 293, 'disagree': 294, 'tight': 295, 'letter': 296, 'past': 297, 'wears': 298, 'right': 299, 'mustard': 300, 'eight': 301, 'ice': 302, 'hilt': 303, 'celebrations': 304, \"we've\": 305, 'wild': 306, 'drift': 307, 'afraid': 308, 'read': 309, 'parasol': 310, 'postcard': 311, 'fifteen': 312, 'trees': 313, 'picks': 314, 'heart': 315, 'await': 316, 'belle': 317, 'chasing': 318, 'wind': 319, 'somehow': 320, 'follow': 321, 'film': 322, 'dakota': 323, 'learn': 324, 'childlike': 325, 'arizona': 326, 'sorrow': 327, 'barber': 328, 'flowing': 329, 'like': 330, 'wasting': 331, 'burst': 332, 'got': 333, 'hearted': 334, 'caught': 335, 'beside': 336, 'takes': 337, 'images': 338, 'blows': 339, 'letters': 340, 'must': 341, 'seemed': 342, 'hair': 343, 'step': 344, 'sounds': 345, 'fishwife': 346, \"that's\": 347, 'knit': 348, 'turns': 349, 'laundromat': 350, 'postcards': 351, 'left': 352, 'roof': 353, 'dirty': 354, 'bien': 355, 'whisper': 356, 'possessing': 357, 'long': 358, 'lights': 359, 'fire': 360, 'stars': 361, 'rain': 362, 'hey': 363, 'fed': 364, 'hunger': 365, 'selling': 366, 'meaning': 367, 'standing': 368, 'thousand': 369, 'toe': 370, 'key': 371, 'mama': 372, 'meander': 373, 'yes': 374, 'universe': 375, 'cha': 376, 'class': 377, 'case': 378, 'tan': 379, 'evermore': 380, 'sold': 381, 'smiles': 382, 'pick': 383, 'something': 384, 'tears': 385, 'slow': 386, 'tune': 387, 'drank': 388, 'telling': 389, 'whats': 390, 'woof': 391, 'new': 392, 'miami': 393, 'woos': 394, 'imagine': 395, 'sweeping': 396, 'carry': 397, 'edgar': 398, 'band': 399, 'michelle': 400, 'foot': 401, 'sixty': 402, 'measured': 403, 'match': 404, 'pictures': 405, 'lucy': 406, 'cocker': 407, 'medicine': 408, 'asked': 409, 'pleasure': 410, 'arise': 411, 'chair': 412, 'sleep': 413, 'woman': 414, 'invitations': 415, 'win': 416, 'stood': 417, 'worry': 418, 'attractively': 419, 'magic': 420, 'gumboot': 421, 'stick': 422, 'shaves': 423, 'muddy': 424, 'ringing': 425, 'three': 426, 'caressing': 427, 'strange': 428, 'football': 429, 'instead': 430, 'bible': 431, 'single': 432, 'doo': 433, 'lagoon': 434, 'peace': 435, 'anywhere': 436, 'flat': 437, 'poppies': 438, 'days': 439, 'understood': 440, 'trouble': 441, 'black': 442, 'loving': 443, 'digging': 444, 'woo': 445, 'skin': 446, 'quiet': 447, 'certain': 448, 'hourglass': 449, 'hate': 450, 'boac': 451, \"there's\": 452, 'awoke': 453, 'hearing': 454, 'else': 455, 'shining': 456, 'endear': 457, 'trim': 458, 'back': 459, 'inciting': 460, 'sky': 461, 'rose': 462, 'often': 463, 'dreams': 464, 'cool': 465, 'avoid': 466, 'painting': 467, 'ride': 468, 'bullfrog': 469, 'gee': 470, 'beg': 471, 'ene': 472, 'cellophane': 473, 'hot': 474, 'tryin': 475, 'south': 476, 'cracker': 477, 'scrimp': 478, 'heard': 479, \"octopus'\": 480, 'moves': 481, 'mucho': 482, 'slept': 483, 'opened': 484, 'juba': 485, 'inverted': 486, 'mattered': 487, 'almost': 488, 'blackburn': 489, 'machine': 490, 'precisely': 491, 'crime': 492, 'slip': 493, 'crowd': 494, 'pilchard': 495, 'little': 496, 'one': 497, 'longer': 498, 'pigs': 499, 'full': 500, 'brown': 501, 'sad': 502, 'mots': 503, 'english': 504, 'fools': 505, 'sont': 506, 'beyond': 507, 'test': 508, 'keeps': 509, 'ways': 510, 'shines': 511, 'taxman': 512, 'darkness': 513, 'years': 514, 'carrying': 515, 'grave': 516, 'fill': 517, 'seen': 518, 'hah': 519, 'innocence': 520, 'wants': 521, 'learns': 522, 'spaniel': 523, 'golden': 524, 'majoring': 525, 'saved': 526, 'light': 527, 'ring': 528, 'though': 529, 'need': 530, 'ease': 531, 'guy': 532, 'crabalocker': 533, 'yard': 534, \"nothing's\": 535, 'vanish': 536, 'take': 537, 'belonged': 538, 'looked': 539, 'gets': 540, 'perfectly': 541, 'park': 542, 'clue': 543, 'ten': 544, 'negotiations': 545, 'guitar': 546, 'hurry': 547, 'call': 548, 'sharing': 549, 'owww': 550, 'holes': 551, 'cave': 552, 'hoping': 553, \"money's\": 554, 'learning': 555, 'jam': 556, 'cake': 557, 'peaked': 558, 'stared': 559, 'times': 560, 'may': 561, 'attracts': 562, 'haze': 563, 'good': 564, 'apologize': 565, \"day's\": 566, 'lullaby': 567, 'fix': 568, 'girls': 569, 'makes': 570, 'pay': 571, 'unpack': 572, 'wrong': 573, 'fish': 574, 'knows': 575, 'words': 576, 'load': 577, 'tried': 578, 'tells': 579, 'pretend': 580, 'buried': 581, 'answer': 582, 'cry': 583, 'city': 584, 'town': 585, 'hmm': 586, 'closed': 587, 'pretty': 588, 'saloon': 589, 'easy': 590, 'able': 591, 'darning': 592, 'suddenly': 593, 'frightened': 594, 'wiping': 595, 'weight': 596, 'lot': 597, 'dancer': 598, 'socks': 599, 'testimonial': 600, 'till': 601, 'join': 602, 'bird': 603, 'villain': 604, 'wait': 605, 'poop': 606, 'buy': 607, 'gas': 608, 'sergeant': 609, 'sailed': 610, 'monkey': 611, 'walking': 612, 'station': 613, 'moments': 614, 'watching': 615, 'thumb': 616, 'upon': 617, 'beach': 618, \"maxwell's\": 619, 'kept': 620, 'wall': 621, 'lasts': 622, 'green': 623, 'priestess': 624, 'run': 625, \"majesty's\": 626, 'kaleidoscope': 627, 'matter': 628, 'teachers': 629, 'winding': 630, \"mother's\": 631, 'sleeps': 632, 'fell': 633, 'meant': 634, 'war': 635, 'miles': 636, 'clouds': 637, 'mojo': 638, 'feeling': 639, 'blind': 640, 'lovely': 641, 'captain': 642, 'coaster': 643, \"everybody's\": 644, 'spoon': 645, 'motorcar': 646, 'man': 647, 'always': 648, 'act': 649, 'paper': 650, 'refrain': 651, 'beneath': 652, 'lucky': 653, 'earth': 654, 'aaaaaaaahhhh': 655, 'mao': 656, 'middle': 657, 'department': 658, 'pillow': 659, 'aware': 660, 'submarine': 661, 'floor': 662, 'parted': 663, 'roundabout': 664, 'protected': 665, 'fly': 666, 'child': 667, 'anyhow': 668, 'ukraine': 669, 'fireman': 670, 'clowns': 671, 'stops': 672, 'million': 673, 'anyway': 674, 'stare': 675, 'sometimes': 676, 'hare': 677, 'top': 678, 'showed': 679, 'week': 680, 'turned': 681, 'birds': 682, 'shall': 683, 'lose': 684, \"groovin'\": 685, 'vera': 686, 'krishna': 687, 'somewhere': 688, 'mac': 689, 'looks': 690, 'phone': 691, 'shouts': 692, \"somethin'\": 693, \"girl's\": 694, 'boat': 695, 'chuck': 696, 'bup': 697, 'cable': 698, 'equal': 699, 'honey': 700, 'dig': 701, 'speed': 702, 'old': 703, 'joke': 704, 'movement': 705, 'gave': 706, 'behave': 707, 'misunderstanding': 708, 'done': 709, 'listens': 710, 'stop': 711, 'story': 712, 'walter': 713, 'darling': 714, 'billy': 715, 'daisy': 716, 'enough': 717, 'sung': 718, \"they'd\": 719, 'kissing': 720, 'limitless': 721, 'marshmallow': 722, 'memories': 723, 'compares': 724, 'close': 725, 'work': 726, 'face': 727, 'moan': 728, 'engine': 729, 'eat': 730, 'cup': 731, 'checked': 732, 'ever': 733, 'children': 734, 'across': 735, 'corporation': 736, 'smile': 737, 'choking': 738, 'twist': 739, 'log': 740, 'college': 741, 'mountain': 742, 'collapsed': 743, 'indicate': 744, \"they've\": 745, 'sideboard': 746, 'inviting': 747, \"we'll\": 748, 'harm': 749, 'nah': 750, 'cut': 751, 'known': 752, 'world': 753, 'front': 754, 'talk': 755, 'king': 756, 'fuse': 757, 'complaining': 758, 'max': 759, 'sang': 760, 'minute': 761, 'perverted': 762, 'sending': 763, 'cornflake': 764, 'waits': 765, 'trolley': 766, 'many': 767, 'car': 768, 'blindly': 769, 'washed': 770, 'fireside': 771, 'bob': 772, 'party': 773, 'even': 774, 'feet': 775, 'mornings': 776, 'believe': 777, 'want': 778, 'things': 779, 'thankful': 780, 'sun': 781, 'news': 782, 'acts': 783, 'dream': 784, 'naughty': 785, 'another': 786, 'aaaaaahhhhhh': 787, 'risk': 788, 'farm': 789, 'chorus': 790, 'asking': 791, 'hog': 792, 'clothes': 793, 'goes': 794, 'steady': 795, 'needs': 796, 'meanwhile': 797, 'feel': 798, 'slowly': 799, 'fool': 800, 'joob': 801, 'care': 802, 'word': 803, 'funny': 804, 'laughing': 805, 'hammer': 806, 'nothing': 807, 'mckenzie': 808, 'ono': 809, 'crying': 810, 'yesterday': 811, 'moment': 812, 'sunny': 813, 'saving': 814, 'likes': 815, 'dripping': 816, 'loner': 817, 'friend': 818, 'customer': 819, 'spinal': 820, 'sea': 821, 'smoke': 822, 'listen': 823, 'hill': 824, 'penetrate': 825, 'hand': 826, 'snow': 827, 'sunday': 828, 'flown': 829, 'chain': 830, \"i've\": 831, 'wishing': 832, 'van': 833, 'eggmen': 834, 'stand': 835, 'suns': 836, 'earn': 837, 'les': 838, 'bridge': 839, \"i'd\": 840, 'gather': 841, 'bring': 842, 'gonna': 843, 'alerted': 844, \"your's\": 845, 'save': 846, \"he's\": 847, 'portrait': 848, 'seeing': 849, 'coming': 850, 'resting': 851, 'quit': 852, 'albert': 853, 'mind': 854, 'understands': 855, 'lifetime': 856, 'kiss': 857, 'armchair': 858, 'hula': 859, 'roll': 860, 'spinning': 861, 'inside': 862, 'running': 863, 'anyone': 864, 'away': 865, 'help': 866, 'nights': 867, 'thought': 868, 'submarines': 869, 'wake': 870, \"georgia's\": 871, 'laughter': 872, 'endless': 873, 'say': 874, 'grandchildren': 875, 'please': 876, 'hideaway': 877, 'hee': 878, 'custard': 879, 'walked': 880, 'windy': 881, 'tree': 882, 'perform': 883, 'find': 884, 'better': 885, 'near': 886, 'notice': 887, 'photographs': 888, 'putting': 889, 'suburban': 890, 'happiness': 891, 'magazine': 892, 'winging': 893, 'corner': 894, 'begin': 895, 'ground': 896, 'polythene': 897, 'think': 898, 'regret': 899, 'bathroom': 900, \"someone's\": 901, 'hope': 902, 'climbing': 903, 'kicking': 904, 'junior': 905, 'start': 906, 'troubles': 907, 'view': 908, 'clean': 909, 'plasticine': 910, 'knowing': 911, 'touch': 912, 'tuesday': 913, 'built': 914, 'reason': 915, 'eye': 916, 'west': 917, 'note': 918, 'science': 919, \"i'll\": 920, 'broke': 921, 'older': 922, 'winter': 923, 'sorry': 924, 'diller': 925, 'twenty': 926, 'lives': 927, 'table': 928, 'disease': 929, 'rug': 930, 'weeds': 931, 'bompa': 932, 'surely': 933, 'talking': 934, 'drop': 935, 'point': 936, 'happens': 937, 'sits': 938, 'knock': 939, 'stays': 940, 'raccoon': 941, 'used': 942, 'tacks': 943, 'stoney': 944, 'younger': 945, 'martin': 946, 'shoeshine': 947, 'catch': 948, 'turning': 949, 'towering': 950, 'says': 951, 'bags': 952, 'arriving': 953, 'brings': 954, 'tres': 955, 'held': 956, \"mama's\": 957, 'nice': 958, 'goo': 959, 'everybody': 960, 'mine': 961, 'desmond': 962, 'faces': 963, 'round': 964, 'dog': 965, 'gin': 966, 'spoke': 967, 'tube': 968, 'home': 969, 'seventeen': 970, 'leisure': 971, 'beautiful': 972, 'rocky': 973, 'stinking': 974, 'set': 975, 'assured': 976, 'dance': 977, 'institution': 978, 'fall': 979, 'grade': 980, 'coat': 981, 'enjoy': 982, 'gideon': 983, 'let': 984, 'independence': 985, 'tell': 986, 'pink': 987, 'happen': 988, 'walk': 989, 'gum': 990, 'yay': 991, 'jar': 992, 'walks': 993, \"daddy's\": 994, 'real': 995, 'eyes': 996, 'burns': 997, 'ears': 998, 'plan': 999, 'lost': 1000, 'told': 1001, \"dog's\": 1002, 'yellow': 1003, 'missing': 1004, \"feelin'\": 1005, 'anymore': 1006, 'writing': 1007, 'lords': 1008, 'straight': 1009, 'diverted': 1010, 'promises': 1011, 'barrow': 1012, 'snide': 1013, 'shake': 1014, 'part': 1015, 'warm': 1016, 'around': 1017, 'shine': 1018, 'diamond': 1019, 'dan': 1020, 'since': 1021, 'qui': 1022, 'loves': 1023, 'quando': 1024, 'horse': 1025, 'revival': 1026, 'booked': 1027, 'forever': 1028, 'going': 1029, \"they're\": 1030, 'deva': 1031, 'way': 1032, 'evening': 1033, \"mem'ries\": 1034, 'pouring': 1035, 'roller': 1036, 'maintains': 1037, 'corazon': 1038, 'rival': 1039, 'stands': 1040, 'dragged': 1041, 'bad': 1042, 'two': 1043, 'dressed': 1044, 'colder': 1045, 'whenever': 1046, 'couple': 1047, 'heaven': 1048, 'plans': 1049, \"we're\": 1050, 'countries': 1051, 'everywhere': 1052, 'bla': 1053, 'met': 1054, 'dead': 1055, 'nowhere': 1056, 'yeah': 1057, 'roar': 1058, 'unpleasant': 1059, 'unfold': 1060, 'guru': 1061, \"ain't\": 1062, 'lips': 1063, 'tired': 1064, 'weeps': 1065, 'drifting': 1066, 'still': 1067, 'anybody': 1068, 'gun': 1069, 'sees': 1070, 'singer': 1071, 'sucks': 1072, 'drag': 1073, 'short': 1074, 'dew': 1075, 'upstairs': 1076, 'valerie': 1077, 'make': 1078, 'pam': 1079, 'speaking': 1080, 'climb': 1081, 'place': 1082, 'sight': 1083, 'thirty': 1084, 'clear': 1085, 'changed': 1086, 'hills': 1087, 'affection': 1088, 'eiffel': 1089, 'shade': 1090, 'audience': 1091, 'ocean': 1092, 'alright': 1093, 'certainly': 1094, 'situation': 1095, 'deny': 1096, 'never': 1097, 'coca': 1098, 'calling': 1099, 'ask': 1100, 'share': 1101, 'tower': 1102, 'waves': 1103, 'banker': 1104, 'allen': 1105, 'rent': 1106, 'rock': 1107, 'laughs': 1108, \"gideon's\": 1109, 'bag': 1110, 'air': 1111, 'feels': 1112, 'banks': 1113, 'living': 1114, 'fifty': 1115, 'hold': 1116, 'bottle': 1117, 'syndicate': 1118, 'know': 1119, 'weeks': 1120, 'room': 1121, 'judge': 1122, 'red': 1123, 'thing': 1124, 'hela': 1125, 'hat': 1126, 'hoo': 1127, 'teacher': 1128, 'found': 1129, 'sitting': 1130, 'controlled': 1131, 'brotherhood': 1132, 'steal': 1133, 'stupid': 1134, 'future': 1135, 'texpert': 1136, 'wigwam': 1137, 'shout': 1138, 'pies': 1139, 'hide': 1140, 'born': 1141, 'boatswain': 1142, 'lovers': 1143, 'hoe': 1144, 'burning': 1145, 'matches': 1146, 'shirt': 1147, 'drink': 1148, 'grin': 1149, 'knew': 1150, 'thrill': 1151, 'song': 1152, 'tumble': 1153, 'getter': 1154, 'melting': 1155, \"pepper's\": 1156, 'hearts': 1157, 'investigation': 1158, 'silver': 1159, 'ensemble': 1160, 'jackknife': 1161, 'obrigado': 1162, 'remain': 1163, 'aaaaahhhhhhhhhh': 1164, 'street': 1165, 'incredibly': 1166, 'shop': 1167, 'form': 1168, 'flight': 1169, 'radiate': 1170, 'called': 1171, \"singer's\": 1172, 'hall': 1173, 'pocket': 1174, 'look': 1175, 'works': 1176, 'heat': 1177, 'pool': 1178, 'ran': 1179, 'leads': 1180, 'along': 1181, 'religion': 1182, 'water': 1183, 'kilt': 1184, 'wearing': 1185, 'glad': 1186, 'places': 1187, 'cloud': 1188, 'nose': 1189, 'constitution': 1190, 'rushes': 1191, 'filter': 1192, 'life': 1193, 'hour': 1194, 'bulldog': 1195, 'jukebox': 1196, 'equipped': 1197, 'sweaty': 1198, 'hung': 1199, 'lancashire': 1200, 'paramucho': 1201, 'daniel': 1202, 'maxwell': 1203, 'recall': 1204, 'someday': 1205, 'holding': 1206, 'chop': 1207, 'appreciate': 1208, 'defelice': 1209, 'wonder': 1210, 'sty': 1211, 'sure': 1212, 'lend': 1213, 'dave': 1214, 'greet': 1215, 'showdown': 1216, \"he'd\": 1217, 'time': 1218, 'market': 1219, 'warning': 1220, 'blue': 1221, 'fighting': 1222, 'creeps': 1223, 'first': 1224, 'head': 1225, 'per': 1226, 'missed': 1227, 'soon': 1228, 'agree': 1229, 'wink': 1230, 'far': 1231, 'blink': 1232, 'sweet': 1233, 'carat': 1234, 'club': 1235, 'joo': 1236, 'line': 1237, 'bed': 1238, 'john': 1239, 'young': 1240, 'losing': 1241, 'dawn': 1242, 'joker': 1243, 'show': 1244, 'comb': 1245, 'money': 1246, 'leave': 1247, 'turn': 1248, 'grass': 1249, 'fussing': 1250, 'late': 1251, 'rest': 1252, 'lock': 1253, 'ferdy': 1254, 'bye': 1255, 'small': 1256, 'someone': 1257, 'sermon': 1258, 'storm': 1259, 'eggman': 1260, 'train': 1261, 'fair': 1262, 'goodbye': 1263, 'pools': 1264, 'rolling': 1265, 'expert': 1266, 'understand': 1267, 'nurse': 1268, 'valentine': 1269, 'cigarette': 1270, 'shoulder': 1271, 'noise': 1272, 'chance': 1273, 'handy': 1274, 'six': 1275, 'turnstile': 1276, 'year': 1277, 'dear': 1278, 'might': 1279, 'row': 1280, 'pain': 1281, 'tangerine': 1282, 'curse': 1283, 'cold': 1284, 'lonely': 1285, 'bloody': 1286, 'servicible': 1287, 'latches': 1288, 'lorry': 1289, 'people': 1290, 'command': 1291, 'marketplace': 1292, 'scratch': 1293, 'doubt': 1294, 'hell': 1295, 'seven': 1296, 'early': 1297, 'tax': 1298, 'showing': 1299, 'ready': 1300, 'walrus': 1301, \"di'n'di\": 1302, 'change': 1303, 'flew': 1304, 'smokers': 1305, 'count': 1306, 'comes': 1307, 'dose': 1308, 'knee': 1309, 'rigby': 1310, 'driving': 1311, 'singing': 1312, 'limousine': 1313, 'eyeballs': 1314, 'big': 1315, 'knickers': 1316, 'falling': 1317, 'danny': 1318, 'fields': 1319, 'jobber': 1320, 'proud': 1321, 'studied': 1322, 'lup': 1323, 'crawled': 1324, 'river': 1325, 'kill': 1326, 'neighbors': 1327, 'anytime': 1328, 'wine': 1329, 'lifting': 1330, 'saying': 1331, 'pony': 1332, 'bang': 1333, 'fragrant': 1334, 'worked': 1335, 'helloa': 1336, 'well': 1337, 'believing': 1338, 'ago': 1339, 'ahead': 1340, 'die': 1341, 'came': 1342, \"junior's\": 1343, 'downstairs': 1344, 'night': 1345, 'california': 1346, 'shelter': 1347, 'quarter': 1348, \"m'mm\": 1349, 'love': 1350, 'seat': 1351, 'promise': 1352, 'wisdom': 1353, 'satisfied': 1354, 'started': 1355, 'play': 1356, 'army': 1357, 'voices': 1358, 'semolina': 1359, 'mistake': 1360, 'bit': 1361, 'drinking': 1362, 'remember': 1363, 'fortune': 1364, 'skip': 1365, 'joa': 1366, 'jai': 1367, 'sit': 1368, 'drew': 1369, 'wow': 1370, 'elementary': 1371, 'sail': 1372, 'name': 1373, 'tear': 1374, 'quizzical': 1375, 'waiting': 1376, 'penguin': 1377, 'cat': 1378, 'mother': 1379, 'jojo': 1380, 'dark': 1381, 'loretta': 1382, 'coral': 1383, 'feelings': 1384, 'write': 1385, 'put': 1386, 'talked': 1387, 'end': 1388, 'safe': 1389, 'nineteen': 1390, 'live': 1391, 'worries': 1392, 'bells': 1393, 'sleeping': 1394, 'ussr': 1395, 'imitate': 1396, 'wildly': 1397, 'seems': 1398, 'hard': 1399, 'strawberry': 1400, 'boom': 1401, 'moscow': 1402, 'music': 1403, 'went': 1404, 'feed': 1405, 'wedding': 1406, 'father': 1407, 'four': 1408, 'photograph': 1409, 'oan': 1410, 'number': 1411, 'taxis': 1412, 'quite': 1413, 'hole': 1414, 'named': 1415, 'stealing': 1416, 'spending': 1417, 'dreamer': 1418, 'hear': 1419, 'rise': 1420, 'fancy': 1421, \"i'm\": 1422, 'lane': 1423, 'give': 1424, 'changing': 1425, 'contribution': 1426, 'blow': 1427, 'low': 1428, 'although': 1429, 'break': 1430, 'brand': 1431, 'shears': 1432, 'gone': 1433, 'fine': 1434, 'bought': 1435, 'pepper': 1436, 'killer': 1437, 'whoa': 1438, 'special': 1439, 'production': 1440, \"goin'\": 1441, 'awake': 1442, 'compare': 1443, 'dot': 1444, 'gently': 1445, \"sunday's\": 1446, 'jackboots': 1447, 'greed': 1448, 'joan': 1449, 'rocking': 1450, 'amore': 1451, 'land': 1452, 'changes': 1453, 'said': 1454, 'blackbird': 1455, 'would': 1456, 'come': 1457, 'disappear': 1458, \"anybody's\": 1459, 'doc': 1460, 'needed': 1461, 'sack': 1462, 'comrade': 1463, 'ship': 1464, 'annoyed': 1465, 'shades': 1466}\n",
      "Training Data Generated for 0 Tokens\n",
      "Training Data Generated for 1000 Tokens\n",
      "Training Data Generated for 2000 Tokens\n",
      "Training Data Generated for 3000 Tokens\n",
      "Training Data Generated for 4000 Tokens\n",
      "Training Data Generated for 5000 Tokens\n",
      "Training Data Generated for 6000 Tokens\n",
      "Training Data Generated for 7000 Tokens\n",
      "Training Data Generated\n",
      "(43548, 1467)\n"
     ]
    }
   ],
   "source": [
    "lyrics_file = open('beatles.txt', 'r')\n",
    "text = lyrics_file.read()\n",
    "lyrics_file.close()\n",
    "\n",
    "def tokenize(text):\n",
    "    pattern = re.compile(r'[A-Za-z]+[\\w^\\']*|[\\w^\\']*[A-Za-z]+[\\w^\\']*')\n",
    "    return pattern.findall(text.lower())\n",
    "\n",
    "def preprocess(tokens):\n",
    "    tokens_processed = []\n",
    "    for words in tokens:\n",
    "        if words in stop_words:\n",
    "            continue\n",
    "        if len(words) <= 2:\n",
    "            continue\n",
    "\n",
    "        tokens_processed.append(words)\n",
    "\n",
    "    print(str(len(tokens_processed)) + ' tokens generated')\n",
    "    return tokens_processed\n",
    "\n",
    "def mapping(tokens):\n",
    "    word_to_id = {}\n",
    "    id_to_word = {}\n",
    "\n",
    "    for i, token in enumerate(set(tokens)):\n",
    "        word_to_id[token] = i\n",
    "        id_to_word[i] = token\n",
    "\n",
    "    print('Token Mapping Complete')\n",
    "\n",
    "    return word_to_id, id_to_word\n",
    "\n",
    "\n",
    "def generate_training_data(tokens, word_to_id, window):\n",
    "    X = []\n",
    "    y = []\n",
    "    n_tokens = len(tokens)\n",
    "\n",
    "    for i in range(n_tokens):\n",
    "        idx = concat(\n",
    "            range(max(0, i - window), i),\n",
    "            range(i, min(n_tokens, i + window + 1))\n",
    "        )\n",
    "        i_id = word_to_id[tokens[i]]\n",
    "        for j in idx:\n",
    "            if i == j:\n",
    "                continue\n",
    "            X.append(one_hot_encode(i_id, len(word_to_id)))\n",
    "            y.append(one_hot_encode(word_to_id[tokens[j]], len(word_to_id)))\n",
    "\n",
    "        if i%1000 == 0:\n",
    "            print('Training Data Generated for ' + str(i) + ' Tokens')\n",
    "\n",
    "    print('Training Data Generated')\n",
    "    return np.array(X), np.array(y)\n",
    "\n",
    "\n",
    "\n",
    "def concat(*iterables):\n",
    "    for iterable in iterables:\n",
    "        yield from iterable\n",
    "\n",
    "\n",
    "def one_hot_encode(id, vocab_size):\n",
    "    res = [0] * vocab_size\n",
    "    res[id] = 1\n",
    "    return res\n",
    "\n",
    "tokens = preprocess(tokenize(text))\n",
    "\n",
    "\n",
    "word_to_id, id_to_word = mapping(tokens)\n",
    "print(word_to_id)\n",
    "\n",
    "\n",
    "X, y = generate_training_data(tokens, word_to_id, 3)\n",
    "\n",
    "print(X.shape)"
   ],
   "metadata": {
    "collapsed": false,
    "pycharm": {
     "name": "#%%\n"
    }
   }
  },
  {
   "cell_type": "code",
   "execution_count": 6,
   "outputs": [
    {
     "name": "stdout",
     "output_type": "stream",
     "text": [
      "Epoch 1/100\n",
      "341/341 [==============================] - 2s 5ms/step - loss: 6.4330 - accuracy: 0.0495\n",
      "Epoch 2/100\n",
      "341/341 [==============================] - 2s 6ms/step - loss: 5.9213 - accuracy: 0.0821\n",
      "Epoch 3/100\n",
      "341/341 [==============================] - 2s 6ms/step - loss: 5.6071 - accuracy: 0.1144\n",
      "Epoch 4/100\n",
      "341/341 [==============================] - 2s 6ms/step - loss: 5.3302 - accuracy: 0.1315\n",
      "Epoch 5/100\n",
      "341/341 [==============================] - 2s 6ms/step - loss: 5.0865 - accuracy: 0.1451\n",
      "Epoch 6/100\n",
      "341/341 [==============================] - 2s 6ms/step - loss: 4.8672 - accuracy: 0.1542\n",
      "Epoch 7/100\n",
      "341/341 [==============================] - 2s 6ms/step - loss: 4.6653 - accuracy: 0.1602\n",
      "Epoch 8/100\n",
      "341/341 [==============================] - 2s 5ms/step - loss: 4.4810 - accuracy: 0.1646\n",
      "Epoch 9/100\n",
      "341/341 [==============================] - 2s 6ms/step - loss: 4.3149 - accuracy: 0.1659\n",
      "Epoch 10/100\n",
      "341/341 [==============================] - 2s 6ms/step - loss: 4.1681 - accuracy: 0.1669\n",
      "Epoch 11/100\n",
      "341/341 [==============================] - 2s 6ms/step - loss: 4.0388 - accuracy: 0.1660\n",
      "Epoch 12/100\n",
      "341/341 [==============================] - 2s 7ms/step - loss: 3.9256 - accuracy: 0.1671\n",
      "Epoch 13/100\n",
      "341/341 [==============================] - 2s 7ms/step - loss: 3.8280 - accuracy: 0.1671\n",
      "Epoch 14/100\n",
      "341/341 [==============================] - 2s 7ms/step - loss: 3.7469 - accuracy: 0.1681\n",
      "Epoch 15/100\n",
      "341/341 [==============================] - 2s 6ms/step - loss: 3.6795 - accuracy: 0.1660\n",
      "Epoch 16/100\n",
      "341/341 [==============================] - 2s 5ms/step - loss: 3.6243 - accuracy: 0.1666\n",
      "Epoch 17/100\n",
      "341/341 [==============================] - 2s 5ms/step - loss: 3.5775 - accuracy: 0.1667\n",
      "Epoch 18/100\n",
      "341/341 [==============================] - 2s 5ms/step - loss: 3.5363 - accuracy: 0.1649\n",
      "Epoch 19/100\n",
      "341/341 [==============================] - 2s 6ms/step - loss: 3.5024 - accuracy: 0.1664\n",
      "Epoch 20/100\n",
      "341/341 [==============================] - 2s 6ms/step - loss: 3.4729 - accuracy: 0.1677\n",
      "Epoch 21/100\n",
      "341/341 [==============================] - 2s 5ms/step - loss: 3.4460 - accuracy: 0.1671\n",
      "Epoch 22/100\n",
      "341/341 [==============================] - 2s 5ms/step - loss: 3.4212 - accuracy: 0.1672\n",
      "Epoch 23/100\n",
      "341/341 [==============================] - 2s 5ms/step - loss: 3.4007 - accuracy: 0.1674\n",
      "Epoch 24/100\n",
      "341/341 [==============================] - 2s 6ms/step - loss: 3.3813 - accuracy: 0.1670\n",
      "Epoch 25/100\n",
      "341/341 [==============================] - 2s 5ms/step - loss: 3.3644 - accuracy: 0.1687\n",
      "Epoch 26/100\n",
      "341/341 [==============================] - 2s 5ms/step - loss: 3.3487 - accuracy: 0.1675\n",
      "Epoch 27/100\n",
      "341/341 [==============================] - 2s 6ms/step - loss: 3.3326 - accuracy: 0.1695\n",
      "Epoch 28/100\n",
      "341/341 [==============================] - 2s 5ms/step - loss: 3.3207 - accuracy: 0.1671\n",
      "Epoch 29/100\n",
      "341/341 [==============================] - 2s 5ms/step - loss: 3.3096 - accuracy: 0.1678\n",
      "Epoch 30/100\n",
      "341/341 [==============================] - 2s 6ms/step - loss: 3.2991 - accuracy: 0.1662\n",
      "Epoch 31/100\n",
      "341/341 [==============================] - 2s 5ms/step - loss: 3.2880 - accuracy: 0.1671\n",
      "Epoch 32/100\n",
      "341/341 [==============================] - 2s 5ms/step - loss: 3.2788 - accuracy: 0.1659\n",
      "Epoch 33/100\n",
      "341/341 [==============================] - 2s 5ms/step - loss: 3.2705 - accuracy: 0.1675\n",
      "Epoch 34/100\n",
      "341/341 [==============================] - 2s 6ms/step - loss: 3.2631 - accuracy: 0.1669\n",
      "Epoch 35/100\n",
      "341/341 [==============================] - 2s 6ms/step - loss: 3.2549 - accuracy: 0.1673\n",
      "Epoch 36/100\n",
      "341/341 [==============================] - 2s 6ms/step - loss: 3.2480 - accuracy: 0.1673\n",
      "Epoch 37/100\n",
      "341/341 [==============================] - 2s 5ms/step - loss: 3.2422 - accuracy: 0.1673\n",
      "Epoch 38/100\n",
      "341/341 [==============================] - 2s 5ms/step - loss: 3.2367 - accuracy: 0.1663\n",
      "Epoch 39/100\n",
      "341/341 [==============================] - 2s 5ms/step - loss: 3.2302 - accuracy: 0.1685\n",
      "Epoch 40/100\n",
      "341/341 [==============================] - 2s 6ms/step - loss: 3.2258 - accuracy: 0.1668\n",
      "Epoch 41/100\n",
      "341/341 [==============================] - 2s 6ms/step - loss: 3.2224 - accuracy: 0.1646\n",
      "Epoch 42/100\n",
      "341/341 [==============================] - 2s 5ms/step - loss: 3.2162 - accuracy: 0.1663\n",
      "Epoch 43/100\n",
      "341/341 [==============================] - 2s 5ms/step - loss: 3.2136 - accuracy: 0.1663\n",
      "Epoch 44/100\n",
      "341/341 [==============================] - 2s 6ms/step - loss: 3.2095 - accuracy: 0.1671\n",
      "Epoch 45/100\n",
      "341/341 [==============================] - 2s 5ms/step - loss: 3.2057 - accuracy: 0.1665\n",
      "Epoch 46/100\n",
      "341/341 [==============================] - 2s 5ms/step - loss: 3.2014 - accuracy: 0.1658\n",
      "Epoch 47/100\n",
      "341/341 [==============================] - 2s 4ms/step - loss: 3.1987 - accuracy: 0.1654\n",
      "Epoch 48/100\n",
      "341/341 [==============================] - 2s 5ms/step - loss: 3.1964 - accuracy: 0.1663\n",
      "Epoch 49/100\n",
      "341/341 [==============================] - 2s 5ms/step - loss: 3.1934 - accuracy: 0.1631\n",
      "Epoch 50/100\n",
      "341/341 [==============================] - 2s 5ms/step - loss: 3.1904 - accuracy: 0.1666\n",
      "Epoch 51/100\n",
      "341/341 [==============================] - 2s 5ms/step - loss: 3.1879 - accuracy: 0.1657\n",
      "Epoch 52/100\n",
      "341/341 [==============================] - 2s 5ms/step - loss: 3.1853 - accuracy: 0.1655\n",
      "Epoch 53/100\n",
      "341/341 [==============================] - 2s 5ms/step - loss: 3.1834 - accuracy: 0.1653\n",
      "Epoch 54/100\n",
      "341/341 [==============================] - 2s 5ms/step - loss: 3.1807 - accuracy: 0.1643\n",
      "Epoch 55/100\n",
      "341/341 [==============================] - 2s 6ms/step - loss: 3.1788 - accuracy: 0.1662\n",
      "Epoch 56/100\n",
      "341/341 [==============================] - 2s 6ms/step - loss: 3.1772 - accuracy: 0.1662\n",
      "Epoch 57/100\n",
      "341/341 [==============================] - 2s 6ms/step - loss: 3.1749 - accuracy: 0.1641\n",
      "Epoch 58/100\n",
      "341/341 [==============================] - 2s 7ms/step - loss: 3.1736 - accuracy: 0.1663\n",
      "Epoch 59/100\n",
      "341/341 [==============================] - 2s 7ms/step - loss: 3.1719 - accuracy: 0.1637\n",
      "Epoch 60/100\n",
      "341/341 [==============================] - 2s 7ms/step - loss: 3.1697 - accuracy: 0.1649\n",
      "Epoch 61/100\n",
      "341/341 [==============================] - 2s 6ms/step - loss: 3.1687 - accuracy: 0.1650\n",
      "Epoch 62/100\n",
      "341/341 [==============================] - 2s 6ms/step - loss: 3.1671 - accuracy: 0.1650\n",
      "Epoch 63/100\n",
      "341/341 [==============================] - 2s 6ms/step - loss: 3.1653 - accuracy: 0.1644\n",
      "Epoch 64/100\n",
      "341/341 [==============================] - 2s 6ms/step - loss: 3.1634 - accuracy: 0.1662\n",
      "Epoch 65/100\n",
      "341/341 [==============================] - 2s 6ms/step - loss: 3.1635 - accuracy: 0.1648\n",
      "Epoch 66/100\n",
      "341/341 [==============================] - 2s 6ms/step - loss: 3.1621 - accuracy: 0.1638\n",
      "Epoch 67/100\n",
      "341/341 [==============================] - 2s 5ms/step - loss: 3.1608 - accuracy: 0.1645\n",
      "Epoch 68/100\n",
      "341/341 [==============================] - 2s 5ms/step - loss: 3.1597 - accuracy: 0.1625\n",
      "Epoch 69/100\n",
      "341/341 [==============================] - 2s 5ms/step - loss: 3.1585 - accuracy: 0.1640\n",
      "Epoch 70/100\n",
      "341/341 [==============================] - 2s 6ms/step - loss: 3.1564 - accuracy: 0.1641\n",
      "Epoch 71/100\n",
      "341/341 [==============================] - 2s 5ms/step - loss: 3.1561 - accuracy: 0.1658\n",
      "Epoch 72/100\n",
      "341/341 [==============================] - 2s 5ms/step - loss: 3.1552 - accuracy: 0.1642\n",
      "Epoch 73/100\n",
      "341/341 [==============================] - 2s 6ms/step - loss: 3.1540 - accuracy: 0.1647\n",
      "Epoch 74/100\n",
      "341/341 [==============================] - 3s 8ms/step - loss: 3.1528 - accuracy: 0.1654\n",
      "Epoch 75/100\n",
      "341/341 [==============================] - 2s 7ms/step - loss: 3.1520 - accuracy: 0.1647\n",
      "Epoch 76/100\n",
      "341/341 [==============================] - 2s 6ms/step - loss: 3.1516 - accuracy: 0.1662\n",
      "Epoch 77/100\n",
      "341/341 [==============================] - 2s 6ms/step - loss: 3.1510 - accuracy: 0.1639\n",
      "Epoch 78/100\n",
      "341/341 [==============================] - 2s 6ms/step - loss: 3.1493 - accuracy: 0.1645\n",
      "Epoch 79/100\n",
      "341/341 [==============================] - 2s 6ms/step - loss: 3.1491 - accuracy: 0.1651\n",
      "Epoch 80/100\n",
      "341/341 [==============================] - 2s 5ms/step - loss: 3.1484 - accuracy: 0.1646\n",
      "Epoch 81/100\n",
      "341/341 [==============================] - 2s 6ms/step - loss: 3.1475 - accuracy: 0.1662\n",
      "Epoch 82/100\n",
      "341/341 [==============================] - 2s 5ms/step - loss: 3.1463 - accuracy: 0.1626\n",
      "Epoch 83/100\n",
      "341/341 [==============================] - 2s 5ms/step - loss: 3.1461 - accuracy: 0.1651\n",
      "Epoch 84/100\n",
      "341/341 [==============================] - 2s 5ms/step - loss: 3.1457 - accuracy: 0.1651\n",
      "Epoch 85/100\n",
      "341/341 [==============================] - 2s 5ms/step - loss: 3.1447 - accuracy: 0.1642\n",
      "Epoch 86/100\n",
      "341/341 [==============================] - 2s 5ms/step - loss: 3.1439 - accuracy: 0.1652\n",
      "Epoch 87/100\n",
      "341/341 [==============================] - 2s 5ms/step - loss: 3.1448 - accuracy: 0.1639\n",
      "Epoch 88/100\n",
      "341/341 [==============================] - 2s 5ms/step - loss: 3.1431 - accuracy: 0.1644\n",
      "Epoch 89/100\n",
      "341/341 [==============================] - 2s 6ms/step - loss: 3.1430 - accuracy: 0.1641\n",
      "Epoch 90/100\n",
      "341/341 [==============================] - 2s 5ms/step - loss: 3.1418 - accuracy: 0.1644\n",
      "Epoch 91/100\n",
      "341/341 [==============================] - 2s 6ms/step - loss: 3.1413 - accuracy: 0.1641\n",
      "Epoch 92/100\n",
      "341/341 [==============================] - 2s 5ms/step - loss: 3.1408 - accuracy: 0.1644\n",
      "Epoch 93/100\n",
      "341/341 [==============================] - 2s 5ms/step - loss: 3.1409 - accuracy: 0.1632\n",
      "Epoch 94/100\n",
      "341/341 [==============================] - 2s 5ms/step - loss: 3.1390 - accuracy: 0.1639\n",
      "Epoch 95/100\n",
      "341/341 [==============================] - 2s 5ms/step - loss: 3.1391 - accuracy: 0.1641\n",
      "Epoch 96/100\n",
      "341/341 [==============================] - 2s 5ms/step - loss: 3.1393 - accuracy: 0.1635\n",
      "Epoch 97/100\n",
      "341/341 [==============================] - 2s 5ms/step - loss: 3.1387 - accuracy: 0.1646\n",
      "Epoch 98/100\n",
      "341/341 [==============================] - 2s 5ms/step - loss: 3.1384 - accuracy: 0.1648\n",
      "Epoch 99/100\n",
      "341/341 [==============================] - 1s 4ms/step - loss: 3.1375 - accuracy: 0.1643\n",
      "Epoch 100/100\n",
      "341/341 [==============================] - 2s 4ms/step - loss: 3.1373 - accuracy: 0.1645\n",
      "Model: \"sequential\"\n",
      "_________________________________________________________________\n",
      " Layer (type)                Output Shape              Param #   \n",
      "=================================================================\n",
      " dense (Dense)               (None, 100)               146800    \n",
      "                                                                 \n",
      " dense_1 (Dense)             (None, 1467)              148167    \n",
      "                                                                 \n",
      "=================================================================\n",
      "Total params: 294,967\n",
      "Trainable params: 294,967\n",
      "Non-trainable params: 0\n",
      "_________________________________________________________________\n"
     ]
    }
   ],
   "source": [
    "num_neurons = X.shape[1]\n",
    "model = keras.Sequential()\n",
    "model.add(keras.layers.Dense(100, input_dim=num_neurons, activation='relu'))\n",
    "model.add(keras.layers.Dense(num_neurons, activation='softmax'))\n",
    "\n",
    "model.compile(optimizer='adam', loss=keras.losses.categorical_crossentropy, metrics=['accuracy'])\n",
    "history = model.fit(X, y, epochs=100, batch_size=128)\n",
    "model.summary()\n"
   ],
   "metadata": {
    "collapsed": false,
    "pycharm": {
     "name": "#%%\n"
    }
   }
  },
  {
   "cell_type": "code",
   "execution_count": 7,
   "outputs": [
    {
     "data": {
      "text/plain": "Text(0.5, 1.0, 'Model Training Performance')"
     },
     "execution_count": 7,
     "metadata": {},
     "output_type": "execute_result"
    },
    {
     "data": {
      "text/plain": "<Figure size 432x288 with 1 Axes>",
      "image/png": "[encoded data removed]"
     },
     "metadata": {
      "needs_background": "light"
     },
     "output_type": "display_data"
    }
   ],
   "source": [
    "plt.plot(history.history['loss'])\n",
    "plt.title('Model Training Performance')"
   ],
   "metadata": {
    "collapsed": false,
    "pycharm": {
     "name": "#%%\n"
    }
   }
  },
  {
   "cell_type": "markdown",
   "source": [],
   "metadata": {
    "collapsed": false,
    "pycharm": {
     "name": "#%% md\n"
    }
   }
  },
  {
   "cell_type": "code",
   "execution_count": 8,
   "outputs": [
    {
     "name": "stdout",
     "output_type": "stream",
     "text": [
      "Model: \"model\"\n",
      "_________________________________________________________________\n",
      " Layer (type)                Output Shape              Param #   \n",
      "=================================================================\n",
      " dense_input (InputLayer)    [(None, 1467)]            0         \n",
      "                                                                 \n",
      " dense (Dense)               (None, 100)               146800    \n",
      "                                                                 \n",
      "=================================================================\n",
      "Total params: 146,800\n",
      "Trainable params: 146,800\n",
      "Non-trainable params: 0\n",
      "_________________________________________________________________\n"
     ]
    }
   ],
   "source": [
    "model2 = keras.Model(inputs=model.inputs, outputs=model.layers[0].output)\n",
    "model2.summary()\n"
   ],
   "metadata": {
    "collapsed": false,
    "pycharm": {
     "name": "#%%\n"
    }
   }
  },
  {
   "cell_type": "code",
   "execution_count": 9,
   "outputs": [
    {
     "name": "stdout",
     "output_type": "stream",
     "text": [
      "46/46 [==============================] - 0s 995us/step\n"
     ]
    }
   ],
   "source": [
    "word_vectors = []\n",
    "\n",
    "for i in range(num_neurons):\n",
    "    word_vectors.append(one_hot_encode(i, num_neurons))\n",
    "\n",
    "word_vectors = np.array(word_vectors)\n",
    "\n",
    "enc = model2.predict(word_vectors)"
   ],
   "metadata": {
    "collapsed": false,
    "pycharm": {
     "name": "#%%\n"
    }
   }
  },
  {
   "cell_type": "code",
   "execution_count": 10,
   "outputs": [
    {
     "name": "stdout",
     "output_type": "stream",
     "text": [
      "9008 tokens generated\n",
      "Token Mapping Complete\n",
      "{'falls': 0, 'together': 1, 'sound': 2, 'nine': 3, 'arms': 4, 'breakfast': 5, 'seconds': 6, 'realize': 7, 'cries': 8, 'wear': 9, 'tocapillo': 10, 'thief': 11, 'beauregard': 12, 'drove': 13, 'familiar': 14, 'saw': 15, 'road': 16, 'echoed': 17, 'panama': 18, 'pray': 19, 'shook': 20, 'livestock': 21, 'quickly': 22, 'smiled': 23, 'gotta': 24, 'toll': 25, 'shadow': 26, 'celestial': 27, \"pumpin'\": 28, 'crown': 29, 'making': 30, 'baton': 31, 'day': 32, 'took': 33, 'hours': 34, 'bread': 35, 'large': 36, 'fellas': 37, 'blame': 38, 'drive': 39, 'considered': 40, 'muscles': 41, 'crossed': 42, 'songs': 43, 'noticed': 44, 'kingdom': 45, 'bus': 46, 'prepare': 47, 'fin': 48, 'sets': 49, 'strong': 50, 'skinful': 51, 'lead': 52, 'high': 53, 'morning': 54, 'emerald': 55, 'canyons': 56, 'borderline': 57, 'brother': 58, 'keep': 59, 'pride': 60, 'woke': 61, 'wheels': 62, 'lit': 63, 'cents': 64, 'melodious': 65, 'hats': 66, 'made': 67, 'album': 68, 'wined': 69, 'maid': 70, 'repair': 71, \"believen'\": 72, 'george': 73, 'flagpole': 74, 'windows': 75, 'wings': 76, \"smokin'\": 77, 'sprout': 78, 'open': 79, 'requests': 80, 'search': 81, 'lightly': 82, \"drivin'\": 83, 'appearance': 84, 'machines': 85, 'blew': 86, 'wave': 87, 'begging': 88, 'shore': 89, 'dessert': 90, 'within': 91, 'kissed': 92, 'eagles': 93, 'sandoval': 94, 'forget': 95, 'garden': 96, 'son': 97, 'ones': 98, 'woe': 99, 'shame': 100, 'job': 101, \"swimmin'\": 102, 'business': 103, 'county': 104, \"mountain's\": 105, 'tonight': 106, 'tipperary': 107, 'poor': 108, 'pluming': 109, 'piece': 110, 'arm': 111, 'spaniards': 112, 'boys': 113, 'flowers': 114, \"marchin'\": 115, 'aim': 116, 'hungry': 117, 'antone': 118, 'today': 119, 'sir': 120, 'sowed': 121, \"head's\": 122, 'claim': 123, 'free': 124, 'saviour': 125, 'highway': 126, 'fare': 127, 'naw': 128, 'wipe': 129, 'disappearing': 130, 'moon': 131, 'visits': 132, 'summer': 133, \"ira'd\": 134, 'cotton': 135, 'side': 136, 'whupped': 137, 'last': 138, 'cook': 139, 'dreamed': 140, 'moved': 141, 'honky': 142, 'tribute': 143, 'dirt': 144, 'darken': 145, 'dodge': 146, 'getting': 147, 'fooled': 148, 'roses': 149, 'sing': 150, 'lady': 151, 'five': 152, 'inches': 153, \"people's\": 154, 'try': 155, 'breathed': 156, 'babies': 157, 'flipped': 158, 'riding': 159, 'brew': 160, 'really': 161, 'retired': 162, 'sam': 163, 'knees': 164, 'grabbed': 165, 'sister': 166, 'tea': 167, 'bright': 168, 'happy': 169, 'drops': 170, 'insisting': 171, 'twelve': 172, 'gatlinburg': 173, 'onlyness': 174, 'names': 175, 'boy': 176, 'proves': 177, 'fried': 178, 'mourners': 179, 'fever': 180, 'official': 181, 'salvation': 182, \"what's\": 183, 'double': 184, 'fold': 185, 'henry': 186, \"leavin'\": 187, 'eldorado': 188, 'church': 189, 'stripes': 190, 'foolish': 191, 'style': 192, 'cabin': 193, 'nobody': 194, 'wanna': 195, 'clay': 196, 'foreman': 197, 'ghost': 198, 'glass': 199, 'fan': 200, \"waitin'\": 201, 'see': 202, 'combed': 203, 'skies': 204, 'thoughts': 205, 'miss': 206, 'choked': 207, 'habastock': 208, 'school': 209, 'gerneral': 210, \"ranger's\": 211, 'door': 212, 'fisherman': 213, 'taps': 214, 'sink': 215, 'swiftness': 216, 'great': 217, 'mean': 218, 'looking': 219, 'cap': 220, 'rivers': 221, 'scattered': 222, 'prison': 223, 'true': 224, 'swinging': 225, 'cloudy': 226, \"walkin'\": 227, 'lonesome': 228, 'raced': 229, 'carpenter': 230, 'paul': 231, 'dangerous': 232, 'shovel': 233, 'delight': 234, 'clickity': 235, 'wanted': 236, 'mattua': 237, 'worth': 238, 'game': 239, 'queen': 240, 'bone': 241, \"ira's\": 242, 'tossed': 243, 'cheaper': 244, 'fairaday': 245, 'forgot': 246, 'starting': 247, \"pickin'\": 248, 'reached': 249, 'shuffle': 250, 'finish': 251, 'bitch': 252, 'kid': 253, 'throw': 254, 'much': 255, 'baby': 256, 'shoes': 257, 'next': 258, 'penny': 259, 'lunch': 260, \"peoples'\": 261, \"puttin'\": 262, 'bide': 263, 'larimore': 264, 'picker': 265, 'spied': 266, 'rusted': 267, 'taught': 268, 'cigarettes': 269, 'tomorrow': 270, 'wonderful': 271, 'shown': 272, 'store': 273, 'doors': 274, 'anything': 275, 'salvador': 276, 'staff': 277, 'rolled': 278, 'redeemed': 279, 'meager': 280, 'sting': 281, 'field': 282, 'lies': 283, 'everyone': 284, 'awhile': 285, 'raise': 286, 'hang': 287, 'could': 288, 'outlaw': 289, 'rail': 290, 'release': 291, 'rails': 292, 'brain': 293, 'pittsburgh': 294, 'throne': 295, 'rhythm': 296, 'died': 297, 'chariot': 298, 'stay': 299, 'bailed': 300, 'check': 301, \"dancin'\": 302, 'mobile': 303, 'successful': 304, 'chains': 305, 'alone': 306, 'sue': 307, 'monday': 308, 'dishonored': 309, \"eatin'\": 310, 'hands': 311, 'tread': 312, 'fast': 313, \"fallin'\": 314, 'cigars': 315, 'rexburg': 316, 'gouging': 317, 'wound': 318, 'colors': 319, 'district': 320, 'rewarded': 321, 'clack': 322, 'hay': 323, 'restless': 324, 'sat': 325, 'bold': 326, 'strife': 327, 'working': 328, 'handled': 329, 'bend': 330, 'taller': 331, 'jericho': 332, 'weds': 333, 'runs': 334, 'dime': 335, 'bragg': 336, 'galilee': 337, 'coughed': 338, 'vile': 339, 'sell': 340, \"drinkin'\": 341, 'bountiful': 342, 'shot': 343, 'trunk': 344, 'lived': 345, 'giving': 346, 'fellow': 347, 'trimming': 348, 'cast': 349, 'personal': 350, 'get': 351, 'stole': 352, 'lily': 353, 'best': 354, 'dope': 355, 'korea': 356, 'kit': 357, 'commence': 358, 'chicken': 359, 'pulled': 360, 'hotter': 361, 'tinker': 362, 'dirtiest': 363, 'blot': 364, \"she'd\": 365, 'gulf': 366, 'tenderly': 367, 'awful': 368, 'white': 369, 'wood': 370, 'jones': 371, 'married': 372, 'guilty': 373, 'fun': 374, 'ages': 375, 'worn': 376, 'rid': 377, \"travelin'\": 378, 'afar': 379, 'ranger': 380, 'hurt': 381, 'joint': 382, 'bids': 383, 'shined': 384, 'flames': 385, 'transmission': 386, 'deep': 387, 'pal': 388, \"risin'\": 389, 'move': 390, 'behind': 391, 'window': 392, 'pond': 393, 'picture': 394, 'use': 395, \"we'd\": 396, 'brains': 397, 'cab': 398, 'folk': 399, 'joy': 400, 'kind': 401, 'shoot': 402, 'roads': 403, 'legs': 404, 'robert': 405, 'divine': 406, 'parade': 407, 'island': 408, \"'til\": 409, 'mess': 410, 'tinnesay': 411, 'babe': 412, 'torn': 413, 'shalimar': 414, 'broken': 415, 'fist': 416, 'louis': 417, 'fears': 418, 'dress': 419, 'meadow': 420, 'mouth': 421, 'brake': 422, 'everything': 423, \"mother'd\": 424, \"can't\": 425, 'cried': 426, 'toes': 427, 'monterey': 428, 'churching': 429, 'half': 430, 'heartaches': 431, 'girl': 432, 'doctor': 433, 'sunshine': 434, 'bolt': 435, 'noble': 436, \"who've\": 437, 'receiver': 438, 'among': 439, 'box': 440, 'figured': 441, 'hit': 442, 'hack': 443, 'fear': 444, 'laugh': 445, 'hello': 446, 'every': 447, 'friends': 448, 'brave': 449, 'apart': 450, 'telephone': 451, 'lifted': 452, 'ticket': 453, 'whose': 454, 'hanging': 455, 'loved': 456, 'solitary': 457, \"dublin's\": 458, 'house': 459, 'winslow': 460, 'worst': 461, \"'cause\": 462, 'stopped': 463, 'kettledrum': 464, 'jose': 465, 'charming': 466, 'shape': 467, 'shoulders': 468, 'fatal': 469, 'handle': 470, 'somebody': 471, 'somber': 472, 'orange': 473, 'clutched': 474, 'pennyweight': 475, 'border': 476, \"devil's\": 477, 'tight': 478, 'eiderdown': 479, 'reno': 480, 'letter': 481, 'past': 482, 'right': 483, 'limp': 484, 'eight': 485, 'breath': 486, 'filthy': 487, \"we've\": 488, 'wild': 489, 'packingham': 490, 'youth': 491, 'trains': 492, 'read': 493, 'parkersburg': 494, 'reminded': 495, 'heed': 496, 'cash': 497, 'trees': 498, 'heart': 499, 'bet': 500, 'turf': 501, 'wind': 502, 'somehow': 503, 'death': 504, 'winnemucca': 505, 'shannon': 506, 'lay': 507, 'different': 508, 'blood': 509, 'learn': 510, 'bow': 511, 'rang': 512, 'arizona': 513, 'sorrow': 514, 'weary': 515, 'especially': 516, 'like': 517, 'kneel': 518, 'shiloh': 519, 'got': 520, 'caught': 521, 'hearted': 522, 'beside': 523, 'oklahoma': 524, 'blows': 525, 'must': 526, 'sinner': 527, 'sparkling': 528, \"lightnin'\": 529, 'hair': 530, 'traveled': 531, 'crawl': 532, 'gold': 533, 'jump': 534, 'columbia': 535, 'fuel': 536, 'liar': 537, 'angels': 538, 'course': 539, \"that's\": 540, 'shores': 541, \"sister's\": 542, 'bakersfield': 543, 'hives': 544, 'wicks': 545, 'tollaperson': 546, 'throat': 547, 'kitchen': 548, 'devised': 549, 'meditate': 550, 'meet': 551, 'causes': 552, 'thunder': 553, 'god': 554, 'concrete': 555, 'pasadena': 556, 'crazy': 557, 'left': 558, 'hardly': 559, 'history': 560, 'tunnels': 561, 'due': 562, 'dirty': 563, 'wish': 564, 'covered': 565, 'automobile': 566, 'mule': 567, 'rounders': 568, 'whisper': 569, 'long': 570, 'lights': 571, 'vigils': 572, 'scatter': 573, 'thirteen': 574, 'multitudes': 575, 'notches': 576, 'fire': 577, 'stars': 578, 'tennessee': 579, 'rain': 580, 'hey': 581, 'hip': 582, 'huh': 583, 'tie': 584, 'standing': 585, 'crowns': 586, 'thousand': 587, 'faith': 588, 'goodness': 589, 'key': 590, 'cocaine': 591, 'tonks': 592, 'mama': 593, 'rosy': 594, 'fight': 595, 'constable': 596, 'jack': 597, 'yes': 598, 'biter': 599, 'universe': 600, 'pick': 601, 'conflict': 602, 'pledge': 603, 'something': 604, 'chadanocka': 605, 'tears': 606, 'slow': 607, 'gravelburg': 608, 'veil': 609, 'new': 610, 'cork': 611, 'doth': 612, 'cover': 613, 'agreed': 614, 'unjust': 615, 'knife': 616, 'glean': 617, \"swinger's\": 618, 'rich': 619, 'sugar': 620, 'sweeping': 621, 'carry': 622, 'vicious': 623, 'wits': 624, 'band': 625, 'foot': 626, 'sixty': 627, 'lee': 628, 'heavy': 629, 'measured': 630, 'match': 631, 'pictures': 632, 'asked': 633, 'hen': 634, 'sheep': 635, 'lepers': 636, 'weighed': 637, 'arise': 638, 'chair': 639, 'skibbereen': 640, 'smell': 641, 'woman': 642, \"soul's\": 643, 'dying': 644, 'bastards': 645, 'win': 646, 'sailor': 647, 'daze': 648, 'curves': 649, 'eyebrows': 650, 'serve': 651, 'gal': 652, 'stood': 653, 'worry': 654, 'fits': 655, 'champagne': 656, 'trail': 657, \"eternity's\": 658, 'catalina': 659, \"microphone's\": 660, 'jaypan': 661, 'scar': 662, 'constantly': 663, 'shallow': 664, \"'bout\": 665, 'ringing': 666, 'wealthy': 667, 'curve': 668, 'three': 669, 'announcement': 670, 'dropped': 671, 'shasta': 672, 'float': 673, 'spend': 674, 'homesick': 675, \"ov're\": 676, 'single': 677, \"makin'\": 678, \"takin'\": 679, \"'em\": 680, 'plum': 681, 'peace': 682, 'colorado': 683, 'adimore': 684, 'anywhere': 685, 'flat': 686, 'hopeless': 687, 'dump': 688, 'freeze': 689, 'pieces': 690, 'kansas': 691, 'ottowa': 692, 'tin': 693, 'inch': 694, 'thousands': 695, 'days': 696, \"man's\": 697, 'trouble': 698, 'black': 699, 'digging': 700, 'gears': 701, 'undone': 702, 'certain': 703, \"gettin'\": 704, 'sup': 705, 'hate': 706, 'tampa': 707, 'negatory': 708, 'spirits': 709, 'builder': 710, \"there's\": 711, 'awoke': 712, \"reachin'\": 713, 'fargo': 714, 'else': 715, 'shining': 716, 'back': 717, 'searching': 718, 'falter': 719, 'homemade': 720, 'harbor': 721, 'shocks': 722, 'pale': 723, 'silently': 724, \"tuggin'\": 725, 'flower': 726, 'polished': 727, 'sky': 728, 'rose': 729, \"hangin'\": 730, 'dreams': 731, 'miner': 732, 'records': 733, 'often': 734, \"it'll\": 735, 'conductor': 736, 'ride': 737, 'alibi': 738, 'dam': 739, 'beg': 740, 'drawing': 741, 'arkansas': 742, 'draw': 743, 'attested': 744, 'hot': 745, \"yesterday's\": 746, 'south': 747, 'whoreys': 748, 'hairs': 749, 'horn': 750, 'charmer': 751, 'argentina': 752, 'bust': 753, 'heard': 754, 'colored': 755, 'opened': 756, 'yonder': 757, 'bones': 758, 'cadallic': 759, 'straw': 760, 'almost': 761, \"here's\": 762, 'snowflakes': 763, 'shotgun': 764, 'groan': 765, 'quick': 766, 'winds': 767, 'semi': 768, 'machine': 769, 'indians': 770, 'crime': 771, 'dollars': 772, 'crowd': 773, 'slip': 774, 'kindness': 775, 'stud': 776, 'speaks': 777, 'little': 778, 'one': 779, 'morn': 780, 'several': 781, 'pigs': 782, 'full': 783, 'simply': 784, 'brown': 785, 'strings': 786, \"driver's\": 787, 'alpha': 788, 'none': 789, 'farmed': 790, \"untanglin'\": 791, 'hushed': 792, 'test': 793, 'keeps': 794, 'ways': 795, 'shines': 796, 'steps': 797, 'ellisburg': 798, 'psycho': 799, 'steamdrill': 800, 'marry': 801, 'thou': 802, 'darkness': 803, 'years': 804, 'grave': 805, 'carrying': 806, 'separation': 807, 'fill': 808, 'seen': 809, 'hah': 810, 'oats': 811, 'health': 812, 'amarillo': 813, 'gang': 814, 'golden': 815, 'dreary': 816, 'saved': 817, 'light': 818, 'struggle': 819, 'ring': 820, 'shocked': 821, 'though': 822, 'need': 823, 'ease': 824, 'kicked': 825, 'fella': 826, 'correction': 827, 'waters': 828, 'take': 829, 'looked': 830, \"string's\": 831, 'powder': 832, 'cuss': 833, 'jordan': 834, 'park': 835, 'ten': 836, \"burnin'\": 837, 'breast': 838, 'blackest': 839, 'guitar': 840, 'shades': 841, 'call': 842, \"bid'st\": 843, 'spirit': 844, 'holes': 845, 'spot': 846, 'minnesota': 847, 'cross': 848, 'mountains': 849, 'hoping': 850, 'interruption': 851, 'tough': 852, 'become': 853, 'learning': 854, 'confess': 855, 'times': 856, 'may': 857, 'lynn': 858, 'written': 859, 'washington': 860, 'dungeon': 861, 'loads': 862, \"o'er\": 863, 'waving': 864, 'good': 865, 'raining': 866, 'admit': 867, \"day's\": 868, 'gabriel': 869, 'kentucky': 870, \"poppin'\": 871, 'threadbare': 872, 'fria': 873, \"life's\": 874, 'fix': 875, 'girls': 876, 'makes': 877, 'smells': 878, 'climbed': 879, 'pay': 880, 'davenport': 881, 'mainsail': 882, 'celebrated': 883, 'thorns': 884, \"sweetheart's\": 885, 'wrangle': 886, 'wrong': 887, 'healing': 888, 'pounds': 889, 'hallelujah': 890, 'cabaret': 891, 'knows': 892, 'words': 893, 'load': 894, 'stains': 895, \"growin'\": 896, 'tried': 897, 'fought': 898, 'recorded': 899, 'farther': 900, 'michigan': 901, 'tells': 902, 'buried': 903, 'baubles': 904, 'answer': 905, 'deserts': 906, 'whether': 907, 'cry': 908, 'city': 909, \"sisters'\": 910, 'tracks': 911, 'town': 912, 'hmm': 913, 'pretty': 914, 'steam': 915, 'trumpets': 916, 'saloon': 917, 'easy': 918, 'honored': 919, 'fuss': 920, 'slumbering': 921, 'sword': 922, 'playing': 923, 'perhaps': 924, 'batter': 925, 'color': 926, 'lot': 927, 'mid': 928, 'opalacka': 929, 'glen': 930, \"watchin'\": 931, 'wail': 932, 'corn': 933, 'till': 934, 'klondike': 935, 'join': 936, 'wait': 937, 'sooner': 938, 'delaware': 939, 'whole': 940, 'aloft': 941, 'divide': 942, 'bmi': 943, 'sailed': 944, 'stuff': 945, 'walking': 946, 'station': 947, 'watching': 948, 'second': 949, 'voice': 950, 'cared': 951, 'upon': 952, 'rainbow': 953, 'san': 954, 'kept': 955, 'wall': 956, 'others': 957, 'relieve': 958, 'courthouse': 959, 'touched': 960, 'hollered': 961, 'binds': 962, 'farmers': 963, 'green': 964, 'meeting': 965, 'run': 966, 'babydoll': 967, 'lean': 968, 'steep': 969, 'soldier': 970, 'matter': 971, 'seek': 972, 'whirlwind': 973, 'thin': 974, 'mercy': 975, 'fell': 976, 'meant': 977, 'serenade': 978, 'war': 979, 'miles': 980, 'handsome': 981, 'fading': 982, 'clouds': 983, 'partake': 984, 'shalom': 985, 'feeling': 986, 'idaho': 987, \"they'll\": 988, 'captain': 989, \"everybody's\": 990, 'alaska': 991, 'north': 992, 'entwined': 993, 'spoon': 994, 'richfield': 995, 'cooking': 996, 'man': 997, 'spring': 998, \"papa's\": 999, 'always': 1000, \"guy'd\": 1001, 'act': 1002, 'keg': 1003, 'prick': 1004, 'beneath': 1005, 'lucky': 1006, 'earth': 1007, 'spike': 1008, 'middle': 1009, 'alarmed': 1010, 'houston': 1011, 'threw': 1012, 'savior': 1013, 'bay': 1014, 'floor': 1015, 'crocodile': 1016, 'flow': 1017, 'labored': 1018, 'bare': 1019, 'headed': 1020, 'withered': 1021, 'francis': 1022, 'sarasota': 1023, 'indian': 1024, 'danger': 1025, 'charms': 1026, 'fly': 1027, 'child': 1028, 'bertha': 1029, 'sneak': 1030, 'wet': 1031, 'fireman': 1032, 'million': 1033, 'maybe': 1034, 'anyway': 1035, 'pistol': 1036, 'schooner': 1037, \"valley's\": 1038, 'juarez': 1039, 'protect': 1040, \"how's\": 1041, 'drifted': 1042, 'sometimes': 1043, 'sickness': 1044, 'heels': 1045, 'webb': 1046, 'eighteen': 1047, \"mournin'\": 1048, 'top': 1049, 'showed': 1050, 'fightings': 1051, 'detroit': 1052, 'week': 1053, 'blessed': 1054, 'mow': 1055, \"retsina'\": 1056, 'turned': 1057, 'leather': 1058, 'soft': 1059, 'ships': 1060, \"'neath\": 1061, 'birds': 1062, 'shall': 1063, 'beasts': 1064, 'lose': 1065, 'teardrops': 1066, 'somewhere': 1067, 'lamb': 1068, 'rider': 1069, 'board': 1070, 'gambler': 1071, 'government': 1072, 'colt': 1073, 'paid': 1074, 'meanest': 1075, 'texarkana': 1076, 'looks': 1077, 'serves': 1078, 'envy': 1079, 'cheek': 1080, 'stream': 1081, 'phone': 1082, \"sent'st\": 1083, 'lower': 1084, \"'sue\": 1085, 'toronto': 1086, \"mouthin'\": 1087, \"engine's\": 1088, 'reckless': 1089, 'blacken': 1090, 'kinds': 1091, 'jacksonville': 1092, 'boat': 1093, 'underneath': 1094, 'needle': 1095, 'weak': 1096, 'hollywood': 1097, 'bars': 1098, 'honey': 1099, 'bullet': 1100, 'type': 1101, 'cost': 1102, 'rouge': 1103, 'speed': 1104, 'old': 1105, 'joke': 1106, 'gave': 1107, \"doin'\": 1108, 'ashore': 1109, 'buckle': 1110, 'gavel': 1111, 'done': 1112, 'stop': 1113, 'story': 1114, 'panicked': 1115, 'dealing': 1116, 'grace': 1117, 'frying': 1118, 'mud': 1119, 'charger': 1120, 'spit': 1121, 'warrant': 1122, 'billy': 1123, 'leaves': 1124, 'forgiver': 1125, 'forgive': 1126, 'slayer': 1127, 'enough': 1128, 'volunteered': 1129, 'agua': 1130, 'reach': 1131, 'headaches': 1132, 'alarm': 1133, 'memories': 1134, 'manna': 1135, 'beans': 1136, 'close': 1137, 'face': 1138, 'casey': 1139, 'moan': 1140, 'engine': 1141, 'eat': 1142, \"smile's\": 1143, 'cup': 1144, 'focus': 1145, 'ambitious': 1146, 'ever': 1147, 'across': 1148, 'pipes': 1149, 'smile': 1150, 'passenger': 1151, 'wise': 1152, 'mountain': 1153, \"potter's\": 1154, 'cedar': 1155, 'oskaloussa': 1156, 'pane': 1157, 'briny': 1158, \"did'st\": 1159, 'began': 1160, \"they've\": 1161, 'stroke': 1162, 'bill': 1163, \"heaven's\": 1164, 'sigh': 1165, 'planted': 1166, 'vinegar': 1167, 'choke': 1168, 'disappoint': 1169, \"we'll\": 1170, 'fact': 1171, 'slipped': 1172, 'jewelery': 1173, 'jackson': 1174, 'blessings': 1175, 'cut': 1176, 'rag': 1177, 'known': 1178, 'world': 1179, 'front': 1180, 'talk': 1181, 'ceased': 1182, 'sang': 1183, 'chrome': 1184, 'loneliness': 1185, 'minute': 1186, 'fishing': 1187, 'thorn': 1188, 'toting': 1189, 'waits': 1190, 'country': 1191, 'grew': 1192, 'many': 1193, 'gift': 1194, 'thank': 1195, 'car': 1196, \"bout'\": 1197, 'washed': 1198, 'chancellorsville': 1199, 'track': 1200, \"grandfather's\": 1201, 'title': 1202, 'block': 1203, 'bob': 1204, 'midst': 1205, 'party': 1206, 'gathered': 1207, 'even': 1208, 'stone': 1209, 'feet': 1210, 'drawl': 1211, 'punched': 1212, 'cant': 1213, 'cows': 1214, 'guide': 1215, \"sayin'\": 1216, 'want': 1217, 'cause': 1218, 'things': 1219, 'believe': 1220, 'gypsies': 1221, 'sun': 1222, \"god's\": 1223, 'news': 1224, \"leanin'\": 1225, 'jesse': 1226, 'chime': 1227, 'chickens': 1228, 'dream': 1229, 'believer': 1230, 'virginia': 1231, 'another': 1232, \"breathin'\": 1233, \"everything's\": 1234, 'uncle': 1235, 'chorus': 1236, 'clothes': 1237, 'goes': 1238, 'dining': 1239, 'throttle': 1240, 'downstream': 1241, 'ragged': 1242, 'peacemaker': 1243, 'following': 1244, 'darkened': 1245, 'steady': 1246, 'cadillac': 1247, 'teaching': 1248, 'glory': 1249, 'astray': 1250, 'eggs': 1251, 'feel': 1252, 'men': 1253, 'slowly': 1254, 'fool': 1255, 'reaching': 1256, 'ryder': 1257, 'iwo': 1258, 'care': 1259, 'model': 1260, 'desire': 1261, 'fired': 1262, 'kinfolk': 1263, 'word': 1264, 'smoked': 1265, 'checks': 1266, 'funny': 1267, 'brag': 1268, 'stoop': 1269, 'southbound': 1270, 'laughing': 1271, 'victim': 1272, 'highwayman': 1273, 'hammer': 1274, 'nothing': 1275, 'dollar': 1276, 'crying': 1277, 'crater': 1278, 'yesterday': 1279, 'gleaming': 1280, 'moment': 1281, 'sunny': 1282, 'hammered': 1283, 'friend': 1284, \"seein'\": 1285, 'brothers': 1286, 'trigger': 1287, 'nosed': 1288, \"wearin'\": 1289, 'grinned': 1290, 'stumbled': 1291, 'sea': 1292, 'listen': 1293, 'hill': 1294, 'hand': 1295, 'wearier': 1296, 'snow': 1297, 'sunday': 1298, 'microphone': 1299, 'taken': 1300, 'rode': 1301, 'chain': 1302, \"i've\": 1303, 'wishing': 1304, 'captin': 1305, 'shreveport': 1306, 'stand': 1307, 'floated': 1308, 'file': 1309, 'earn': 1310, 'ann': 1311, 'shit': 1312, \"i'd\": 1313, 'polish': 1314, 'lake': 1315, 'treasure': 1316, 'trade': 1317, 'gather': 1318, 'bring': 1319, 'pocotello': 1320, 'overtook': 1321, 'gonna': 1322, 'rounds': 1323, 'hid': 1324, 'defend': 1325, 'numbering': 1326, 'dignity': 1327, 'scaffold': 1328, \"sittin'\": 1329, 'save': 1330, 'pleaded': 1331, 'fiery': 1332, \"he's\": 1333, \"callin'\": 1334, 'main': 1335, 'guts': 1336, 'verdict': 1337, 'coming': 1338, 'quit': 1339, 'waved': 1340, 'cavalry': 1341, 'thee': 1342, 'honest': 1343, 'mind': 1344, 'less': 1345, 'drinks': 1346, 'doubts': 1347, 'kiss': 1348, 'company': 1349, 'abused': 1350, \"bullet's\": 1351, 'whichta': 1352, 'ditches': 1353, 'roll': 1354, 'costa': 1355, 'switch': 1356, 'nuts': 1357, 'mister': 1358, 'inside': 1359, 'running': 1360, 'hakensack': 1361, 'fail': 1362, 'weeping': 1363, \"how'd\": 1364, 'away': 1365, 'cannot': 1366, 'mangy': 1367, 'law': 1368, 'cocked': 1369, 'charges': 1370, 'without': 1371, 'help': 1372, 'orleans': 1373, 'expressions': 1374, \"who's\": 1375, 'boots': 1376, 'thought': 1377, \"sleepin'\": 1378, 'flesh': 1379, 'applaud': 1380, 'rush': 1381, 'melody': 1382, 'laughter': 1383, 'hallow': 1384, 'say': 1385, 'already': 1386, 'eleven': 1387, 'please': 1388, 'wasted': 1389, 'moorlands': 1390, 'howlered': 1391, 'trumpet': 1392, 'flood': 1393, 'walked': 1394, 'windy': 1395, \"workin'\": 1396, 'gentle': 1397, 'click': 1398, 'bangor': 1399, 'pains': 1400, 'sheriff': 1401, 'tree': 1402, 'find': 1403, 'fond': 1404, 'near': 1405, 'better': 1406, 'tapping': 1407, 'repay': 1408, 'putting': 1409, 'happiness': 1410, 'driver': 1411, 'vow': 1412, 'grinding': 1413, 'corner': 1414, 'crops': 1415, 'plain': 1416, 'ground': 1417, 'alive': 1418, 'regret': 1419, \"someone's\": 1420, 'think': 1421, 'fighter': 1422, 'hope': 1423, 'arrested': 1424, 'phoenix': 1425, 'kicking': 1426, 'jellico': 1427, 'streak': 1428, 'start': 1429, 'lesson': 1430, 'troubles': 1431, 'despair': 1432, 'view': 1433, 'wide': 1434, \"draggin'\": 1435, \"angel's\": 1436, 'carcass': 1437, 'trial': 1438, 'touch': 1439, 'drug': 1440, 'tuesday': 1441, 'laid': 1442, 'evil': 1443, 'reason': 1444, 'cups': 1445, 'dust': 1446, 'eye': 1447, 'beat': 1448, 'jima': 1449, 'west': 1450, \"i'll\": 1451, 'broke': 1452, 'scandalized': 1453, 'winter': 1454, 'coach': 1455, 'sorry': 1456, 'fiend': 1457, 'meddle': 1458, 'lives': 1459, 'table': 1460, 'twenty': 1461, 'midnight': 1462, 'tags': 1463, 'reception': 1464, 'whatever': 1465, 'mite': 1466, 'weeds': 1467, \"coin'\": 1468, 'talking': 1469, 'point': 1470, 'sip': 1471, 'drop': 1472, 'cleared': 1473, 'enter': 1474, 'used': 1475, 'boston': 1476, 'bench': 1477, 'pima': 1478, 'sweeter': 1479, 'shoeshine': 1480, 'ninety': 1481, 'catch': 1482, 'adapter': 1483, 'ohh': 1484, 'forgiveness': 1485, 'turning': 1486, 'dared': 1487, 'held': 1488, 'bent': 1489, 'chine': 1490, 'everybody': 1491, 'holster': 1492, 'listened': 1493, 'deserve': 1494, 'bout': 1495, 'rainy': 1496, 'valley': 1497, 'pricks': 1498, 'comfort': 1499, 'mine': 1500, 'glorious': 1501, 'decides': 1502, 'curls': 1503, 'round': 1504, 'dog': 1505, 'spoke': 1506, 'wife': 1507, 'home': 1508, 'mate': 1509, 'repeat': 1510, 'beautiful': 1511, 'wreck': 1512, 'muscle': 1513, 'james': 1514, 'mules': 1515, 'dance': 1516, 'travel': 1517, 'waterville': 1518, 'wheeler': 1519, 'snuck': 1520, \"runnin'\": 1521, 'fall': 1522, 'coat': 1523, 'crucified': 1524, \"pete's\": 1525, 'knoxville': 1526, 'let': 1527, 'jumpy': 1528, 'tell': 1529, 'fascinated': 1530, 'pleasures': 1531, 'court': 1532, 'tougher': 1533, \"c'mon\": 1534, 'tomb': 1535, 'walk': 1536, 'lordy': 1537, 'warden': 1538, 'accidentally': 1539, 'mighty': 1540, 'discloses': 1541, 'walks': 1542, 'hire': 1543, 'mack': 1544, 'fairest': 1545, 'lures': 1546, 'screw': 1547, 'burns': 1548, 'eyes': 1549, 'real': 1550, 'closet': 1551, 'coffee': 1552, 'plan': 1553, 'ditch': 1554, 'lost': 1555, 'told': 1556, 'redwood': 1557, 'pappy': 1558, 'terror': 1559, 'swear': 1560, 'fairer': 1561, 'unknown': 1562, 'scene': 1563, 'pity': 1564, 'missing': 1565, \"'round\": 1566, 'helped': 1567, 'anymore': 1568, \"feelin'\": 1569, 'writing': 1570, 'shattered': 1571, 'engines': 1572, 'tulsa': 1573, 'straight': 1574, 'blues': 1575, 'lip': 1576, 'damp': 1577, 'virgins': 1578, 'lifeblood': 1579, 'hero': 1580, 'lift': 1581, 'shake': 1582, 'dropper': 1583, 'part': 1584, \"laughin'\": 1585, 'warm': 1586, 'around': 1587, 'faithful': 1588, 'shine': 1589, 'richer': 1590, 'since': 1591, 'tremble': 1592, 'compliments': 1593, 'loves': 1594, 'ira': 1595, 'freed': 1596, 'horse': 1597, 'paradise': 1598, 'watched': 1599, 'proudly': 1600, 'fully': 1601, \"nothin'\": 1602, 'forever': 1603, 'going': 1604, \"they're\": 1605, \"'come\": 1606, 'way': 1607, 'bended': 1608, 'whiskey': 1609, 'record': 1610, 'grunt': 1611, 'fame': 1612, 'johnny': 1613, 'stands': 1614, 'cheating': 1615, 'bad': 1616, 'stairs': 1617, \"howlin'\": 1618, 'starship': 1619, \"livin'\": 1620, \"cavin'\": 1621, 'two': 1622, 'seem': 1623, 'dressed': 1624, 'heaven': 1625, 'forty': 1626, 'spade': 1627, 'plans': 1628, 'tarry': 1629, 'empire': 1630, \"searchin'\": 1631, 'nerve': 1632, 'fairly': 1633, \"we're\": 1634, 'marine': 1635, \"roller's\": 1636, 'snapping': 1637, 'cafe': 1638, 'bail': 1639, 'springfield': 1640, 'everywhere': 1641, 'met': 1642, 'ladder': 1643, 'hundredweight': 1644, 'dead': 1645, 'furled': 1646, 'promised': 1647, 'yeah': 1648, \"ain't\": 1649, 'cadillacs': 1650, \"'tho\": 1651, 'lips': 1652, 'lying': 1653, 'tired': 1654, 'iron': 1655, \"who'll\": 1656, \"changin'\": 1657, 'shut': 1658, 'stoned': 1659, 'deliver': 1660, 'tollgate': 1661, 'still': 1662, 'anybody': 1663, 'drilled': 1664, 'grab': 1665, 'gun': 1666, 'sees': 1667, 'lightning': 1668, 'chicago': 1669, 'pardon': 1670, 'stock': 1671, \"boilin'\": 1672, \"a'lazing\": 1673, 'strike': 1674, 'flag': 1675, 'folks': 1676, 'seed': 1677, 'drag': 1678, 'nectar': 1679, 'boss': 1680, \"there'll\": 1681, \"luther's\": 1682, 'short': 1683, 'info': 1684, \"daughter's\": 1685, 'beaten': 1686, \"lookin'\": 1687, 'dew': 1688, 'orders': 1689, \"flashin'\": 1690, 'passed': 1691, 'make': 1692, 'place': 1693, 'thatching': 1694, \"hon'ring\": 1695, 'wilt': 1696, 'waterloo': 1697, \"henry's\": 1698, 'sight': 1699, 'strung': 1700, 'guns': 1701, 'gladness': 1702, 'blocks': 1703, 'thirty': 1704, \"dyin'\": 1705, 'baltimore': 1706, 'clear': 1707, 'easier': 1708, 'hills': 1709, 'behold': 1710, 'surf': 1711, \"momma's\": 1712, 'troubled': 1713, 'talks': 1714, \"digin'\": 1715, 'bell': 1716, 'habit': 1717, 'forevermore': 1718, 'refused': 1719, 'throughout': 1720, 'ocean': 1721, 'plunged': 1722, 'probably': 1723, 'alright': 1724, 'breatherd': 1725, 'mistaken': 1726, 'keen': 1727, 'toil': 1728, 'locked': 1729, 'sweat': 1730, 'plea': 1731, 'lord': 1732, 'tunnel': 1733, 'passing': 1734, 'shereville': 1735, 'never': 1736, 'gravel': 1737, 'calling': 1738, 'saginaw': 1739, 'ask': 1740, 'share': 1741, 'hypnotized': 1742, 'drunk': 1743, 'omerback': 1744, 'coal': 1745, 'roam': 1746, 'rock': 1747, 'southern': 1748, 'crashed': 1749, 'kick': 1750, 'sweethearts': 1751, 'knocked': 1752, 'laughs': 1753, \"casey's\": 1754, 'numbered': 1755, 'air': 1756, 'temple': 1757, 'frozen': 1758, 'fit': 1759, 'banks': 1760, 'fifty': 1761, 'living': 1762, 'worried': 1763, 'hold': 1764, 'ave': 1765, \"buddy's\": 1766, 'bottle': 1767, 'bogs': 1768, 'baraboo': 1769, 'clock': 1770, 'sirens': 1771, 'scalded': 1772, 'mill': 1773, 'star': 1774, 'dusty': 1775, 'hoist': 1776, 'know': 1777, 'room': 1778, 'wretched': 1779, 'judge': 1780, 'blessing': 1781, 'denied': 1782, 'minutes': 1783, 'red': 1784, 'vicksburg': 1785, 'lac': 1786, 'thing': 1787, \"lovin'\": 1788, 'slowed': 1789, 'finest': 1790, 'hat': 1791, \"world's\": 1792, 'biggest': 1793, 'tide': 1794, 'found': 1795, 'sitting': 1796, 'liars': 1797, 'chase': 1798, 'beauties': 1799, 'steal': 1800, 'rough': 1801, 'buffalo': 1802, 'charleston': 1803, 'shout': 1804, 'complete': 1805, 'holds': 1806, 'hide': 1807, 'bound': 1808, 'born': 1809, 'drunken': 1810, 'tone': 1811, \"let's\": 1812, 'leaned': 1813, \"lady's\": 1814, 'shirt': 1815, 'drink': 1816, 'ripped': 1817, 'grin': 1818, 'knew': 1819, 'sand': 1820, 'drill': 1821, 'song': 1822, \"omega's\": 1823, 'murder': 1824, 'killed': 1825, 'receive': 1826, 'rights': 1827, 'hearts': 1828, 'silver': 1829, 'thirst': 1830, 'drown': 1831, 'ledge': 1832, 'wayfaring': 1833, 'raised': 1834, 'hock': 1835, 'remain': 1836, \"she'll\": 1837, 'wreath': 1838, 'service': 1839, 'street': 1840, 'later': 1841, 'form': 1842, 'flight': 1843, 'called': 1844, 'knight': 1845, 'snake': 1846, 'hall': 1847, 'thine': 1848, 'look': 1849, 'stuck': 1850, 'blissful': 1851, 'ran': 1852, \"smilin'\": 1853, 'frown': 1854, 'steel': 1855, 'along': 1856, 'failing': 1857, 'offer': 1858, 'water': 1859, 'wearing': 1860, 'glad': 1861, 'donaghadee': 1862, 'places': 1863, 'tore': 1864, 'life': 1865, 'hour': 1866, 'whistle': 1867, 'drain': 1868, 'blouse': 1869, 'hung': 1870, 'likewise': 1871, \"blowin'\": 1872, 'someday': 1873, 'holding': 1874, 'daddy': 1875, 'prisoner': 1876, 'dumb': 1877, 'engineer': 1878, 'foam': 1879, 'slipping': 1880, 'mexico': 1881, 'wonder': 1882, 'gray': 1883, 'sure': 1884, 'prepared': 1885, \"he'd\": 1886, 'seep': 1887, \"high's\": 1888, 'time': 1889, 'hush': 1890, 'miller': 1891, 'bolts': 1892, 'servant': 1893, 'cleanest': 1894, 'swing': 1895, 'blue': 1896, 'paulie': 1897, 'thereon': 1898, \"judge's\": 1899, 'motor': 1900, 'tongue': 1901, \"comin'\": 1902, 'first': 1903, 'head': 1904, 'speeched': 1905, 'folsom': 1906, 'soon': 1907, 'amperdllo': 1908, 'mail': 1909, 'agree': 1910, \"'till\": 1911, 'pill': 1912, 'far': 1913, 'skull': 1914, 'sweet': 1915, 'watch': 1916, 'settled': 1917, 'women': 1918, \"cow's\": 1919, 'learned': 1920, \"sprout'\": 1921, 'cleanse': 1922, 'ought': 1923, 'santa': 1924, 'line': 1925, 'bed': 1926, 'john': 1927, 'young': 1928, 'nashville': 1929, \"tho'\": 1930, 'popped': 1931, 'burned': 1932, 'circles': 1933, 'show': 1934, 'comb': 1935, 'money': 1936, 'leave': 1937, \"talkin'\": 1938, 'shelf': 1939, 'turn': 1940, 'fellers': 1941, \"god'll\": 1942, 'lapaloma': 1943, 'partners': 1944, 'late': 1945, 'pound': 1946, \"jove's\": 1947, 'july': 1948, 'larne': 1949, 'willie': 1950, 'rest': 1951, 'sidewalk': 1952, 'sick': 1953, 'bye': 1954, 'shed': 1955, 'small': 1956, 'someone': 1957, 'ear': 1958, 'storm': 1959, 'train': 1960, 'fair': 1961, 'pipers': 1962, 'goodbye': 1963, 'shoe': 1964, 'breathe': 1965, 'armageddon': 1966, 'wrote': 1967, 'railroad': 1968, 'dwelling': 1969, 'understand': 1970, 'spin': 1971, 'eighty': 1972, 'rio': 1973, 'prayers': 1974, 'brighten': 1975, 'cure': 1976, \"blownin'\": 1977, 'shoulder': 1978, 'noise': 1979, 'fingers': 1980, 'chance': 1981, 'factory': 1982, 'dwell': 1983, 'mississippi': 1984, 'empty': 1985, 'begun': 1986, 'six': 1987, 'taste': 1988, 'year': 1989, 'ball': 1990, 'dear': 1991, \"singin'\": 1992, 'might': 1993, 'pain': 1994, 'busted': 1995, 'cold': 1996, 'marked': 1997, 'alamo': 1998, 'muffled': 1999, 'lonely': 2000, 'jail': 2001, 'shaking': 2002, 'swings': 2003, 'people': 2004, 'kinda': 2005, 'tortures': 2006, 'willow': 2007, 'forsake': 2008, 'dingle': 2009, 'cars': 2010, 'laying': 2011, 'lots': 2012, 'trembling': 2013, 'cradle': 2014, 'ugh': 2015, 'breeze': 2016, 'doubt': 2017, 'hell': 2018, 'seven': 2019, 'memphis': 2020, 'ohio': 2021, 'goose': 2022, 'early': 2023, 'desert': 2024, 'fret': 2025, 'boats': 2026, 'pigiron': 2027, 'card': 2028, 'bloom': 2029, 'change': 2030, 'flew': 2031, 'comes': 2032, 'papa': 2033, 'knee': 2034, 'driving': 2035, 'wednesday': 2036, 'singing': 2037, 'suppose': 2038, 'substitute': 2039, 'nebraska': 2040, 'big': 2041, 'rip': 2042, 'ends': 2043, 'falling': 2044, 'danny': 2045, 'fields': 2046, 'thirsty': 2047, 'beer': 2048, 'hundred': 2049, 'chosen': 2050, 'bills': 2051, \"bendin'\": 2052, 'hayes': 2053, 'proved': 2054, 'pots': 2055, 'proud': 2056, 'played': 2057, 'diamondtina': 2058, 'beauteous': 2059, 'battled': 2060, 'river': 2061, 'split': 2062, 'kill': 2063, 'wheat': 2064, 'abide': 2065, 'freighter': 2066, 'dad': 2067, 'cares': 2068, 'lure': 2069, 'praise': 2070, 'picked': 2071, 'wine': 2072, 'waited': 2073, 'journey': 2074, 'saying': 2075, 'pony': 2076, 'general': 2077, 'thy': 2078, 'worked': 2079, 'slapped': 2080, 'trip': 2081, 'lemme': 2082, \"headlight'\": 2083, 'tail': 2084, 'nervous': 2085, 'well': 2086, 'hound': 2087, 'definitely': 2088, 'ago': 2089, 'louisiana': 2090, 'greedy': 2091, 'returned': 2092, 'ahead': 2093, 'dry': 2094, 'soul': 2095, 'die': 2096, \"givin'\": 2097, 'came': 2098, 'chest': 2099, 'haired': 2100, 'night': 2101, 'mammy': 2102, 'quarter': 2103, 'love': 2104, 'seat': 2105, 'promise': 2106, 'section': 2107, 'started': 2108, 'charity': 2109, 'play': 2110, 'gracious': 2111, 'scott': 2112, 'texas': 2113, 'army': 2114, 'driftwood': 2115, 'daughter': 2116, 'grows': 2117, 'yards': 2118, 'voices': 2119, 'blade': 2120, 'swinger': 2121, 'kalamazoo': 2122, 'sake': 2123, 'bit': 2124, \"movin'\": 2125, \"mornin'\": 2126, 'giggle': 2127, 'drinking': 2128, 'remember': 2129, 'sign': 2130, 'fortune': 2131, 'shalam': 2132, 'higher': 2133, \"friend's\": 2134, 'degree': 2135, 'dayton': 2136, \"suckin'\": 2137, 'sit': 2138, 'picking': 2139, 'deadly': 2140, 'teach': 2141, 'sail': 2142, 'tearing': 2143, 'name': 2144, 'tear': 2145, \"'sembly\": 2146, 'waiting': 2147, 'belted': 2148, 'pack': 2149, 'brighter': 2150, 'grits': 2151, 'jimmy': 2152, 'mother': 2153, 'dark': 2154, 'louisville': 2155, 'flanders': 2156, 'grand': 2157, 'traveling': 2158, 'feelings': 2159, 'willy': 2160, 'loose': 2161, 'put': 2162, 'newly': 2163, 'sweetest': 2164, 'talked': 2165, 'end': 2166, 'square': 2167, 'nineteen': 2168, 'caller': 2169, 'live': 2170, 'surprise': 2171, 'tucked': 2172, 'sleeping': 2173, 'rambler': 2174, 'greater': 2175, 'teeth': 2176, 'wheel': 2177, 'seems': 2178, 'hard': 2179, 'kingston': 2180, \"cavortin'\": 2181, 'arizonia': 2182, 'dozen': 2183, 'nailed': 2184, 'whoever': 2185, 'unto': 2186, 'austin': 2187, 'grande': 2188, 'least': 2189, 'vanished': 2190, 'music': 2191, 'seams': 2192, 'replace': 2193, 'went': 2194, 'feed': 2195, 'wedding': 2196, 'railway': 2197, 'father': 2198, 'four': 2199, 'ate': 2200, 'number': 2201, 'quite': 2202, 'hole': 2203, 'named': 2204, 'nickel': 2205, 'grandfather': 2206, 'hear': 2207, 'dried': 2208, 'fancy': 2209, 'rise': 2210, \"i'm\": 2211, 'thursday': 2212, 'give': 2213, 'souix': 2214, 'graveyard': 2215, \"cryin'\": 2216, 'blow': 2217, 'thud': 2218, 'low': 2219, 'rules': 2220, 'relayed': 2221, \"rollin'\": 2222, 'brand': 2223, 'wooo': 2224, 'gone': 2225, 'snowball': 2226, 'fine': 2227, 'seventy': 2228, 'bees': 2229, 'jury': 2230, 'bought': 2231, 'followed': 2232, 'pepper': 2233, 'killer': 2234, 'lunchbox': 2235, \"summer's\": 2236, 'treated': 2237, 'special': 2238, 'departure': 2239, 'righteous': 2240, 'nassau': 2241, \"goin'\": 2242, 'yet': 2243, 'pen': 2244, 'canvas': 2245, 'sent': 2246, 'awake': 2247, 'moans': 2248, 'eternity': 2249, 'collide': 2250, 'greed': 2251, 'momma': 2252, 'chickapee': 2253, 'rocking': 2254, 'offered': 2255, 'land': 2256, 'vietnam': 2257, 'body': 2258, 'said': 2259, \"an'\": 2260, 'jesus': 2261, 'would': 2262, 'reading': 2263, 'booze': 2264, 'mare': 2265, \"hair's\": 2266, 'fumbled': 2267, 'come': 2268, 'heavenly': 2269, 'non': 2270, 'disappear': 2271, 'suit': 2272, 'needed': 2273, 'boulder': 2274, 'taking': 2275, 'ship': 2276, 'stranger': 2277, 'brought': 2278, 'pump': 2279, 'armor': 2280}\n",
      "Training Data Generated for 0 Tokens\n",
      "Training Data Generated for 1000 Tokens\n",
      "Training Data Generated for 2000 Tokens\n",
      "Training Data Generated for 3000 Tokens\n",
      "Training Data Generated for 4000 Tokens\n",
      "Training Data Generated for 5000 Tokens\n",
      "Training Data Generated for 6000 Tokens\n",
      "Training Data Generated for 7000 Tokens\n",
      "Training Data Generated for 8000 Tokens\n",
      "Training Data Generated for 9000 Tokens\n",
      "Training Data Generated\n"
     ]
    },
    {
     "data": {
      "text/plain": "(54036, 2281)"
     },
     "execution_count": 10,
     "metadata": {},
     "output_type": "execute_result"
    }
   ],
   "source": [
    "lyrics_file = open('johnny-cash.txt', 'r')\n",
    "text2 = lyrics_file.read()\n",
    "lyrics_file.close()\n",
    "\n",
    "tokens2 = preprocess(tokenize(text2))\n",
    "\n",
    "word_to_id2, id_to_word2 = mapping(tokens2)\n",
    "print(word_to_id2)\n",
    "\n",
    "\n",
    "X2, y2 = generate_training_data(tokens2, word_to_id2, 3)\n",
    "\n",
    "X2.shape\n"
   ],
   "metadata": {
    "collapsed": false,
    "pycharm": {
     "name": "#%%\n"
    }
   }
  },
  {
   "cell_type": "code",
   "execution_count": 11,
   "outputs": [
    {
     "name": "stdout",
     "output_type": "stream",
     "text": [
      "2281\n",
      "Epoch 1/100\n",
      "423/423 [==============================] - 5s 10ms/step - loss: 7.1220 - accuracy: 0.0098\n",
      "Epoch 2/100\n",
      "423/423 [==============================] - 4s 9ms/step - loss: 6.8678 - accuracy: 0.0163\n",
      "Epoch 3/100\n",
      "423/423 [==============================] - 3s 8ms/step - loss: 6.6953 - accuracy: 0.0356\n",
      "Epoch 4/100\n",
      "423/423 [==============================] - 3s 8ms/step - loss: 6.4179 - accuracy: 0.0538\n",
      "Epoch 5/100\n",
      "423/423 [==============================] - 4s 8ms/step - loss: 6.1202 - accuracy: 0.0654\n",
      "Epoch 6/100\n",
      "423/423 [==============================] - 4s 8ms/step - loss: 5.8303 - accuracy: 0.0742\n",
      "Epoch 7/100\n",
      "423/423 [==============================] - 4s 9ms/step - loss: 5.5545 - accuracy: 0.0796\n",
      "Epoch 8/100\n",
      "423/423 [==============================] - 4s 9ms/step - loss: 5.3012 - accuracy: 0.0845\n",
      "Epoch 9/100\n",
      "423/423 [==============================] - 4s 8ms/step - loss: 5.0736 - accuracy: 0.0859\n",
      "Epoch 10/100\n",
      "423/423 [==============================] - 4s 9ms/step - loss: 4.8728 - accuracy: 0.0864\n",
      "Epoch 11/100\n",
      "423/423 [==============================] - 4s 10ms/step - loss: 4.6958 - accuracy: 0.0866\n",
      "Epoch 12/100\n",
      "423/423 [==============================] - 4s 11ms/step - loss: 4.5421 - accuracy: 0.0856\n",
      "Epoch 13/100\n",
      "423/423 [==============================] - 4s 10ms/step - loss: 4.4111 - accuracy: 0.0854\n",
      "Epoch 14/100\n",
      "423/423 [==============================] - 4s 10ms/step - loss: 4.3024 - accuracy: 0.0833\n",
      "Epoch 15/100\n",
      "423/423 [==============================] - 5s 11ms/step - loss: 4.2124 - accuracy: 0.0832\n",
      "Epoch 16/100\n",
      "423/423 [==============================] - 4s 11ms/step - loss: 4.1361 - accuracy: 0.0833\n",
      "Epoch 17/100\n",
      "423/423 [==============================] - 4s 10ms/step - loss: 4.0736 - accuracy: 0.0828\n",
      "Epoch 18/100\n",
      "423/423 [==============================] - 4s 9ms/step - loss: 4.0194 - accuracy: 0.0831\n",
      "Epoch 19/100\n",
      "423/423 [==============================] - 4s 10ms/step - loss: 3.9721 - accuracy: 0.0833\n",
      "Epoch 20/100\n",
      "423/423 [==============================] - 4s 10ms/step - loss: 3.9296 - accuracy: 0.0819\n",
      "Epoch 21/100\n",
      "423/423 [==============================] - 4s 9ms/step - loss: 3.8924 - accuracy: 0.0849\n",
      "Epoch 22/100\n",
      "423/423 [==============================] - 4s 8ms/step - loss: 3.8585 - accuracy: 0.0842\n",
      "Epoch 23/100\n",
      "423/423 [==============================] - 4s 9ms/step - loss: 3.8292 - accuracy: 0.0853\n",
      "Epoch 24/100\n",
      "423/423 [==============================] - 4s 9ms/step - loss: 3.8028 - accuracy: 0.0844\n",
      "Epoch 25/100\n",
      "423/423 [==============================] - 4s 9ms/step - loss: 3.7771 - accuracy: 0.0851\n",
      "Epoch 26/100\n",
      "423/423 [==============================] - 4s 8ms/step - loss: 3.7556 - accuracy: 0.0859\n",
      "Epoch 27/100\n",
      "423/423 [==============================] - 3s 8ms/step - loss: 3.7348 - accuracy: 0.0849\n",
      "Epoch 28/100\n",
      "423/423 [==============================] - 4s 9ms/step - loss: 3.7167 - accuracy: 0.0866\n",
      "Epoch 29/100\n",
      "423/423 [==============================] - 4s 9ms/step - loss: 3.6995 - accuracy: 0.0862\n",
      "Epoch 30/100\n",
      "423/423 [==============================] - 4s 9ms/step - loss: 3.6851 - accuracy: 0.0860\n",
      "Epoch 31/100\n",
      "423/423 [==============================] - 4s 8ms/step - loss: 3.6707 - accuracy: 0.0853\n",
      "Epoch 32/100\n",
      "423/423 [==============================] - 4s 9ms/step - loss: 3.6581 - accuracy: 0.0847\n",
      "Epoch 33/100\n",
      "423/423 [==============================] - 4s 9ms/step - loss: 3.6453 - accuracy: 0.0851\n",
      "Epoch 34/100\n",
      "423/423 [==============================] - 4s 10ms/step - loss: 3.6354 - accuracy: 0.0848\n",
      "Epoch 35/100\n",
      "423/423 [==============================] - 5s 12ms/step - loss: 3.6251 - accuracy: 0.0849\n",
      "Epoch 36/100\n",
      "423/423 [==============================] - 5s 12ms/step - loss: 3.6151 - accuracy: 0.0852\n",
      "Epoch 37/100\n",
      "423/423 [==============================] - 5s 11ms/step - loss: 3.6073 - accuracy: 0.0846\n",
      "Epoch 38/100\n",
      "423/423 [==============================] - 5s 11ms/step - loss: 3.5983 - accuracy: 0.0855\n",
      "Epoch 39/100\n",
      "423/423 [==============================] - 5s 11ms/step - loss: 3.5920 - accuracy: 0.0851\n",
      "Epoch 40/100\n",
      "423/423 [==============================] - 5s 11ms/step - loss: 3.5837 - accuracy: 0.0844\n",
      "Epoch 41/100\n",
      "423/423 [==============================] - 5s 11ms/step - loss: 3.5783 - accuracy: 0.0843\n",
      "Epoch 42/100\n",
      "423/423 [==============================] - 4s 11ms/step - loss: 3.5722 - accuracy: 0.0844\n",
      "Epoch 43/100\n",
      "423/423 [==============================] - 4s 10ms/step - loss: 3.5665 - accuracy: 0.0825\n",
      "Epoch 44/100\n",
      "423/423 [==============================] - 4s 10ms/step - loss: 3.5605 - accuracy: 0.0849\n",
      "Epoch 45/100\n",
      "423/423 [==============================] - 5s 11ms/step - loss: 3.5567 - accuracy: 0.0846\n",
      "Epoch 46/100\n",
      "423/423 [==============================] - 4s 11ms/step - loss: 3.5525 - accuracy: 0.0825\n",
      "Epoch 47/100\n",
      "423/423 [==============================] - 4s 10ms/step - loss: 3.5464 - accuracy: 0.0844\n",
      "Epoch 48/100\n",
      "423/423 [==============================] - 4s 9ms/step - loss: 3.5435 - accuracy: 0.0837\n",
      "Epoch 49/100\n",
      "423/423 [==============================] - 4s 9ms/step - loss: 3.5395 - accuracy: 0.0842\n",
      "Epoch 50/100\n",
      "423/423 [==============================] - 4s 10ms/step - loss: 3.5343 - accuracy: 0.0841\n",
      "Epoch 51/100\n",
      "423/423 [==============================] - 4s 9ms/step - loss: 3.5325 - accuracy: 0.0830\n",
      "Epoch 52/100\n",
      "423/423 [==============================] - 4s 9ms/step - loss: 3.5285 - accuracy: 0.0841\n",
      "Epoch 53/100\n",
      "423/423 [==============================] - 4s 8ms/step - loss: 3.5258 - accuracy: 0.0826\n",
      "Epoch 54/100\n",
      "423/423 [==============================] - 4s 9ms/step - loss: 3.5220 - accuracy: 0.0818\n",
      "Epoch 55/100\n",
      "423/423 [==============================] - 4s 9ms/step - loss: 3.5198 - accuracy: 0.0806\n",
      "Epoch 56/100\n",
      "423/423 [==============================] - 4s 9ms/step - loss: 3.5161 - accuracy: 0.0835\n",
      "Epoch 57/100\n",
      "423/423 [==============================] - 3s 8ms/step - loss: 3.5148 - accuracy: 0.0828\n",
      "Epoch 58/100\n",
      "423/423 [==============================] - 3s 8ms/step - loss: 3.5114 - accuracy: 0.0823\n",
      "Epoch 59/100\n",
      "423/423 [==============================] - 4s 9ms/step - loss: 3.5085 - accuracy: 0.0843\n",
      "Epoch 60/100\n",
      "423/423 [==============================] - 4s 9ms/step - loss: 3.5071 - accuracy: 0.0830\n",
      "Epoch 61/100\n",
      "423/423 [==============================] - 3s 8ms/step - loss: 3.5043 - accuracy: 0.0833\n",
      "Epoch 62/100\n",
      "423/423 [==============================] - 3s 7ms/step - loss: 3.5035 - accuracy: 0.0821\n",
      "Epoch 63/100\n",
      "423/423 [==============================] - 4s 9ms/step - loss: 3.5005 - accuracy: 0.0835\n",
      "Epoch 64/100\n",
      "423/423 [==============================] - 4s 10ms/step - loss: 3.4981 - accuracy: 0.0819\n",
      "Epoch 65/100\n",
      "423/423 [==============================] - 5s 11ms/step - loss: 3.4981 - accuracy: 0.0822\n",
      "Epoch 66/100\n",
      "423/423 [==============================] - 4s 10ms/step - loss: 3.4956 - accuracy: 0.0824\n",
      "Epoch 67/100\n",
      "423/423 [==============================] - 4s 11ms/step - loss: 3.4929 - accuracy: 0.0828\n",
      "Epoch 68/100\n",
      "423/423 [==============================] - 5s 11ms/step - loss: 3.4924 - accuracy: 0.0821\n",
      "Epoch 69/100\n",
      "423/423 [==============================] - 5s 11ms/step - loss: 3.4905 - accuracy: 0.0823\n",
      "Epoch 70/100\n",
      "423/423 [==============================] - 4s 10ms/step - loss: 3.4894 - accuracy: 0.0831\n",
      "Epoch 71/100\n",
      "423/423 [==============================] - 4s 10ms/step - loss: 3.4879 - accuracy: 0.0815\n",
      "Epoch 72/100\n",
      "423/423 [==============================] - 4s 10ms/step - loss: 3.4866 - accuracy: 0.0817\n",
      "Epoch 73/100\n",
      "423/423 [==============================] - 4s 10ms/step - loss: 3.4846 - accuracy: 0.0825\n",
      "Epoch 74/100\n",
      "423/423 [==============================] - 5s 11ms/step - loss: 3.4842 - accuracy: 0.0827\n",
      "Epoch 75/100\n",
      "423/423 [==============================] - 4s 8ms/step - loss: 3.4822 - accuracy: 0.0835\n",
      "Epoch 76/100\n",
      "423/423 [==============================] - 4s 8ms/step - loss: 3.4814 - accuracy: 0.0818\n",
      "Epoch 77/100\n",
      "423/423 [==============================] - 4s 9ms/step - loss: 3.4791 - accuracy: 0.0829\n",
      "Epoch 78/100\n",
      "423/423 [==============================] - 4s 8ms/step - loss: 3.4788 - accuracy: 0.0828\n",
      "Epoch 79/100\n",
      "423/423 [==============================] - 4s 8ms/step - loss: 3.4789 - accuracy: 0.0816\n",
      "Epoch 80/100\n",
      "423/423 [==============================] - 4s 8ms/step - loss: 3.4779 - accuracy: 0.0818\n",
      "Epoch 81/100\n",
      "423/423 [==============================] - 4s 9ms/step - loss: 3.4761 - accuracy: 0.0821\n",
      "Epoch 82/100\n",
      "423/423 [==============================] - 4s 9ms/step - loss: 3.4745 - accuracy: 0.0839\n",
      "Epoch 83/100\n",
      "423/423 [==============================] - 4s 9ms/step - loss: 3.4746 - accuracy: 0.0826\n",
      "Epoch 84/100\n",
      "423/423 [==============================] - 4s 9ms/step - loss: 3.4735 - accuracy: 0.0817\n",
      "Epoch 85/100\n",
      "423/423 [==============================] - 4s 9ms/step - loss: 3.4724 - accuracy: 0.0825\n",
      "Epoch 86/100\n",
      "423/423 [==============================] - 4s 10ms/step - loss: 3.4718 - accuracy: 0.0827\n",
      "Epoch 87/100\n",
      "423/423 [==============================] - 5s 11ms/step - loss: 3.4707 - accuracy: 0.0818\n",
      "Epoch 88/100\n",
      "423/423 [==============================] - 7s 17ms/step - loss: 3.4698 - accuracy: 0.0832\n",
      "Epoch 89/100\n",
      "423/423 [==============================] - 6s 15ms/step - loss: 3.4696 - accuracy: 0.0819\n",
      "Epoch 90/100\n",
      "423/423 [==============================] - 5s 13ms/step - loss: 3.4676 - accuracy: 0.0816\n",
      "Epoch 91/100\n",
      "423/423 [==============================] - 5s 13ms/step - loss: 3.4682 - accuracy: 0.0818\n",
      "Epoch 92/100\n",
      "423/423 [==============================] - 5s 13ms/step - loss: 3.4672 - accuracy: 0.0816\n",
      "Epoch 93/100\n",
      "423/423 [==============================] - 5s 12ms/step - loss: 3.4659 - accuracy: 0.0818\n",
      "Epoch 94/100\n",
      "423/423 [==============================] - 5s 11ms/step - loss: 3.4653 - accuracy: 0.0805\n",
      "Epoch 95/100\n",
      "423/423 [==============================] - 5s 11ms/step - loss: 3.4650 - accuracy: 0.0827\n",
      "Epoch 96/100\n",
      "423/423 [==============================] - 4s 10ms/step - loss: 3.4649 - accuracy: 0.0822\n",
      "Epoch 97/100\n",
      "423/423 [==============================] - 4s 9ms/step - loss: 3.4637 - accuracy: 0.0821\n",
      "Epoch 98/100\n",
      "423/423 [==============================] - 4s 9ms/step - loss: 3.4621 - accuracy: 0.0829\n",
      "Epoch 99/100\n",
      "423/423 [==============================] - 4s 9ms/step - loss: 3.4626 - accuracy: 0.0809\n",
      "Epoch 100/100\n",
      "423/423 [==============================] - 4s 9ms/step - loss: 3.4620 - accuracy: 0.0814\n",
      "Model: \"sequential_1\"\n",
      "_________________________________________________________________\n",
      " Layer (type)                Output Shape              Param #   \n",
      "=================================================================\n",
      " dense_2 (Dense)             (None, 100)               228200    \n",
      "                                                                 \n",
      " dense_3 (Dense)             (None, 2281)              230381    \n",
      "                                                                 \n",
      "=================================================================\n",
      "Total params: 458,581\n",
      "Trainable params: 458,581\n",
      "Non-trainable params: 0\n",
      "_________________________________________________________________\n"
     ]
    }
   ],
   "source": [
    "num_neurons2 = X2.shape[1]\n",
    "print(num_neurons2)\n",
    "model3 = keras.Sequential()\n",
    "model3.add(keras.layers.Dense(100, input_dim=num_neurons2, activation='relu'))\n",
    "model3.add(keras.layers.Dense(num_neurons2, activation='softmax'))\n",
    "\n",
    "model3.compile(optimizer='adam', loss=keras.losses.categorical_crossentropy, metrics=['accuracy'])\n",
    "history2 = model3.fit(X2, y2, epochs=100, batch_size=128)\n",
    "model3.summary()"
   ],
   "metadata": {
    "collapsed": false,
    "pycharm": {
     "name": "#%%\n"
    }
   }
  },
  {
   "cell_type": "code",
   "execution_count": 12,
   "outputs": [
    {
     "data": {
      "text/plain": "Text(0.5, 1.0, 'Model Training Performance')"
     },
     "execution_count": 12,
     "metadata": {},
     "output_type": "execute_result"
    },
    {
     "data": {
      "text/plain": "<Figure size 432x288 with 1 Axes>",
      "image/png": "[encoded data removed]"
     },
     "metadata": {
      "needs_background": "light"
     },
     "output_type": "display_data"
    }
   ],
   "source": [
    "plt.plot(history2.history['loss'])\n",
    "plt.title('Model Training Performance')"
   ],
   "metadata": {
    "collapsed": false,
    "pycharm": {
     "name": "#%%\n"
    }
   }
  },
  {
   "cell_type": "code",
   "execution_count": 13,
   "outputs": [
    {
     "name": "stdout",
     "output_type": "stream",
     "text": [
      "Model: \"model_1\"\n",
      "_________________________________________________________________\n",
      " Layer (type)                Output Shape              Param #   \n",
      "=================================================================\n",
      " dense_2_input (InputLayer)  [(None, 2281)]            0         \n",
      "                                                                 \n",
      " dense_2 (Dense)             (None, 100)               228200    \n",
      "                                                                 \n",
      "=================================================================\n",
      "Total params: 228,200\n",
      "Trainable params: 228,200\n",
      "Non-trainable params: 0\n",
      "_________________________________________________________________\n"
     ]
    }
   ],
   "source": [
    "model4 = keras.Model(inputs=model3.inputs, outputs=model3.layers[0].output)\n",
    "model4.summary()\n"
   ],
   "metadata": {
    "collapsed": false,
    "pycharm": {
     "name": "#%%\n"
    }
   }
  },
  {
   "cell_type": "code",
   "execution_count": 14,
   "outputs": [
    {
     "name": "stdout",
     "output_type": "stream",
     "text": [
      "72/72 [==============================] - 0s 2ms/step\n",
      "(2281, 100)\n"
     ]
    }
   ],
   "source": [
    "word_vectors2 = []\n",
    "\n",
    "for i in range(num_neurons2):\n",
    "    word_vectors2.append(one_hot_encode(i, num_neurons2))\n",
    "\n",
    "word_vectors2 = np.array(word_vectors2)\n",
    "\n",
    "enc2 = model4.predict(word_vectors2)\n",
    "print(enc2.shape)"
   ],
   "metadata": {
    "collapsed": false,
    "pycharm": {
     "name": "#%%\n"
    }
   }
  },
  {
   "cell_type": "code",
   "execution_count": 15,
   "outputs": [
    {
     "name": "stdout",
     "output_type": "stream",
     "text": [
      "{'everybody': 4.5287485, 'tres': 4.7891493, 'learns': 4.7904983, 'enough': 4.852195, 'believing': 4.9244704, 'bring': 4.95257, 'bom': 4.9619966, 'max': 5.0069423, 'know': 5.0149508, 'equal': 5.0168915}\n"
     ]
    },
    {
     "data": {
      "text/plain": "<Figure size 1440x360 with 1 Axes>",
      "image/png": "[encoded data removed]"
     },
     "metadata": {
      "needs_background": "light"
     },
     "output_type": "display_data"
    }
   ],
   "source": [
    "p = list()\n",
    "target = np.array(enc[word_to_id.get('love')])\n",
    "\n",
    "for i in range(num_neurons):\n",
    "    p.append(np.linalg.norm(target - np.array(enc[i])))\n",
    "\n",
    "p = np.array(p)\n",
    "a = list(np.argsort(p))\n",
    "\n",
    "lab = list()\n",
    "pp = list()\n",
    "\n",
    "dic = {}\n",
    "\n",
    "fig, ax = plt.subplots()\n",
    "fig.set_size_inches(20,5)\n",
    "\n",
    "for k in range(1,11):\n",
    "    lab.append(id_to_word.get(a[k]))\n",
    "    pp.append([p[a[k]]])\n",
    "    dic[id_to_word.get(a[k])] = p[a[k]]\n",
    "\n",
    "plt.scatter(pp, np.zeros((10)))\n",
    "plt.xlabel('pairwise distance')\n",
    "\n",
    "print(dic)\n",
    "\n",
    "\n",
    "pp = np.array(pp)\n",
    "\n",
    "for k in range(10):\n",
    "    plt.annotate(lab[k], (pp[k], 0.005*math.pow(-1, k) - 0.002))\n"
   ],
   "metadata": {
    "collapsed": false,
    "pycharm": {
     "name": "#%%\n"
    }
   }
  },
  {
   "cell_type": "code",
   "execution_count": 16,
   "outputs": [
    {
     "name": "stdout",
     "output_type": "stream",
     "text": [
      "{'hallow': 5.1552143, 'howlered': 5.214243, 'panicked': 5.2670016, 'shattered': 5.2895746, 'anyway': 5.3285956, 'shocked': 5.39241, 'babydoll': 5.414915, 'blessings': 5.418156, 'saviour': 5.438018, \"burnin'\": 5.5280056}\n"
     ]
    },
    {
     "data": {
      "text/plain": "<Figure size 1440x360 with 1 Axes>",
      "image/png": "[encoded data removed]"
     },
     "metadata": {
      "needs_background": "light"
     },
     "output_type": "display_data"
    }
   ],
   "source": [
    "p2 = list()\n",
    "target2 = np.array(enc2[word_to_id2.get('love')])\n",
    "\n",
    "for i in range(num_neurons2):\n",
    "    p2.append(np.linalg.norm(target2 - np.array(enc2[i])))\n",
    "\n",
    "p2 = np.array(p2)\n",
    "a2 = list(np.argsort(p2))\n",
    "\n",
    "lab2 = list()\n",
    "pp2 = list()\n",
    "\n",
    "dic2 = {}\n",
    "\n",
    "fig2, ax2 = plt.subplots()\n",
    "fig2.set_size_inches(20,5)\n",
    "for k in range(1,11):\n",
    "    lab2.append(id_to_word2.get(a2[k]))\n",
    "    pp2.append([p2[a2[k]]])\n",
    "    dic2[id_to_word2.get(a2[k])] = p2[a2[k]]\n",
    "\n",
    "plt.scatter(pp2, np.zeros((10)))\n",
    "plt.xlabel('pairwise distance')\n",
    "\n",
    "print(dic2)\n",
    "\n",
    "\n",
    "pp2 = np.array(pp2)\n",
    "\n",
    "for k in range(10):\n",
    "    plt.annotate(lab2[k], (pp2[k], 0.005*math.pow(-1, k) - 0.002))"
   ],
   "metadata": {
    "collapsed": false,
    "pycharm": {
     "name": "#%%\n"
    }
   }
  },
  {
   "cell_type": "code",
   "execution_count": 16,
   "outputs": [],
   "source": [],
   "metadata": {
    "collapsed": false,
    "pycharm": {
     "name": "#%%\n"
    }
   }
  }
 ],
 "metadata": {
  "kernelspec": {
   "display_name": "Python 3 (ipykernel)",
   "language": "python",
   "name": "python3"
  },
  "language_info": {
   "codemirror_mode": {
    "name": "ipython",
    "version": 3
   },
   "file_extension": ".py",
   "mimetype": "text/x-python",
   "name": "python",
   "nbconvert_exporter": "python",
   "pygments_lexer": "ipython3",
   "version": "3.9.12"
  },
  "toc": {
   "base_numbering": 1,
   "nav_menu": {},
   "number_sections": false,
   "sideBar": true,
   "skip_h1_title": false,
   "title_cell": "Table of Contents",
   "title_sidebar": "Contents",
   "toc_cell": false,
   "toc_position": {},
   "toc_section_display": true,
   "toc_window_display": true
  },
  "varInspector": {
   "cols": {
    "lenName": 16,
    "lenType": 16,
    "lenVar": 40
   },
   "kernels_config": {
    "python": {
     "delete_cmd_postfix": "",
     "delete_cmd_prefix": "del ",
     "library": "var_list.py",
     "varRefreshCmd": "print(var_dic_list())"
    },
    "r": {
     "delete_cmd_postfix": ") ",
     "delete_cmd_prefix": "rm(",
     "library": "var_list.r",
     "varRefreshCmd": "cat(var_dic_list()) "
    }
   },
   "types_to_exclude": [
    "module",
    "function",
    "builtin_function_or_method",
    "instance",
    "_Feature"
   ],
   "window_display": false
  }
 },
 "nbformat": 4,
 "nbformat_minor": 2
}